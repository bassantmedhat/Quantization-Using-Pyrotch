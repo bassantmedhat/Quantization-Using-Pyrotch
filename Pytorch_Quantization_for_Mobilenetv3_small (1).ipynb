{
  "cells": [
    {
      "cell_type": "markdown",
      "source": [
        "## Mount Drive if your data is on it"
      ],
      "metadata": {
        "id": "rkWuvx0yI--S"
      }
    },
    {
      "cell_type": "code",
      "execution_count": 8,
      "metadata": {
        "id": "WVViUN6Pju-Z",
        "colab": {
          "base_uri": "https://localhost:8080/"
        },
        "outputId": "ce832eb1-34db-4b4b-8bb1-cf06021a6fe1"
      },
      "outputs": [
        {
          "output_type": "stream",
          "name": "stdout",
          "text": [
            "Mounted at /content/drive\n"
          ]
        }
      ],
      "source": [
        "colab_nb = 'google.colab' in str(get_ipython())\n",
        "if colab_nb:\n",
        "  from google.colab import drive\n",
        "  drive.mount(\"/content/drive\", force_remount=True)"
      ]
    },
    {
      "cell_type": "code",
      "source": [
        "import os\n",
        "os.environ['CUDA_VISIBLE_DEVICES'] = '0'\n",
        "\n",
        "import numpy as np\n",
        "import cv2\n",
        "import matplotlib.pyplot as plt\n",
        "import re\n",
        "import sys\n",
        "sys.path.append(\"../../util\")\n",
        "\n",
        "# PyTorch quantization supports only CPU\n",
        "device = \"cpu\""
      ],
      "metadata": {
        "id": "-W8X6bV4pSMa"
      },
      "execution_count": 9,
      "outputs": []
    },
    {
      "cell_type": "code",
      "source": [
        "# Install these frameworks as they include modifications to enable model quantization\n",
        "\n",
        "!pip install git+https://github.com/bassantmedhat/gen-efficientnet-pytorch.git\n",
        "!pip install git+https://github.com/bassantmedhat/fastseg.git\n"
      ],
      "metadata": {
        "colab": {
          "base_uri": "https://localhost:8080/"
        },
        "collapsed": true,
        "id": "gbxnRjcyQ5PW",
        "outputId": "ad05bf04-5b49-46a5-e0d8-84c0351e4d06"
      },
      "execution_count": 10,
      "outputs": [
        {
          "output_type": "stream",
          "name": "stdout",
          "text": [
            "Collecting git+https://github.com/bassantmedhat/gen-efficientnet-pytorch.git\n",
            "  Cloning https://github.com/bassantmedhat/gen-efficientnet-pytorch.git to /tmp/pip-req-build-i5a62a24\n",
            "  Running command git clone --filter=blob:none --quiet https://github.com/bassantmedhat/gen-efficientnet-pytorch.git /tmp/pip-req-build-i5a62a24\n",
            "  Resolved https://github.com/bassantmedhat/gen-efficientnet-pytorch.git to commit 1e6f13a2f1ed5a741a1ce16e18e43e5ff30676a3\n",
            "  Preparing metadata (setup.py) ... \u001b[?25l\u001b[?25hdone\n",
            "Requirement already satisfied: torch>=1.4 in /usr/local/lib/python3.10/dist-packages (from geffnet==1.0.2) (2.3.1+cu121)\n",
            "Requirement already satisfied: torchvision in /usr/local/lib/python3.10/dist-packages (from geffnet==1.0.2) (0.18.1+cu121)\n",
            "Requirement already satisfied: filelock in /usr/local/lib/python3.10/dist-packages (from torch>=1.4->geffnet==1.0.2) (3.15.4)\n",
            "Requirement already satisfied: typing-extensions>=4.8.0 in /usr/local/lib/python3.10/dist-packages (from torch>=1.4->geffnet==1.0.2) (4.12.2)\n",
            "Requirement already satisfied: sympy in /usr/local/lib/python3.10/dist-packages (from torch>=1.4->geffnet==1.0.2) (1.13.1)\n",
            "Requirement already satisfied: networkx in /usr/local/lib/python3.10/dist-packages (from torch>=1.4->geffnet==1.0.2) (3.3)\n",
            "Requirement already satisfied: jinja2 in /usr/local/lib/python3.10/dist-packages (from torch>=1.4->geffnet==1.0.2) (3.1.4)\n",
            "Requirement already satisfied: fsspec in /usr/local/lib/python3.10/dist-packages (from torch>=1.4->geffnet==1.0.2) (2024.6.1)\n",
            "Requirement already satisfied: nvidia-cuda-nvrtc-cu12==12.1.105 in /usr/local/lib/python3.10/dist-packages (from torch>=1.4->geffnet==1.0.2) (12.1.105)\n",
            "Requirement already satisfied: nvidia-cuda-runtime-cu12==12.1.105 in /usr/local/lib/python3.10/dist-packages (from torch>=1.4->geffnet==1.0.2) (12.1.105)\n",
            "Requirement already satisfied: nvidia-cuda-cupti-cu12==12.1.105 in /usr/local/lib/python3.10/dist-packages (from torch>=1.4->geffnet==1.0.2) (12.1.105)\n",
            "Requirement already satisfied: nvidia-cudnn-cu12==8.9.2.26 in /usr/local/lib/python3.10/dist-packages (from torch>=1.4->geffnet==1.0.2) (8.9.2.26)\n",
            "Requirement already satisfied: nvidia-cublas-cu12==12.1.3.1 in /usr/local/lib/python3.10/dist-packages (from torch>=1.4->geffnet==1.0.2) (12.1.3.1)\n",
            "Requirement already satisfied: nvidia-cufft-cu12==11.0.2.54 in /usr/local/lib/python3.10/dist-packages (from torch>=1.4->geffnet==1.0.2) (11.0.2.54)\n",
            "Requirement already satisfied: nvidia-curand-cu12==10.3.2.106 in /usr/local/lib/python3.10/dist-packages (from torch>=1.4->geffnet==1.0.2) (10.3.2.106)\n",
            "Requirement already satisfied: nvidia-cusolver-cu12==11.4.5.107 in /usr/local/lib/python3.10/dist-packages (from torch>=1.4->geffnet==1.0.2) (11.4.5.107)\n",
            "Requirement already satisfied: nvidia-cusparse-cu12==12.1.0.106 in /usr/local/lib/python3.10/dist-packages (from torch>=1.4->geffnet==1.0.2) (12.1.0.106)\n",
            "Requirement already satisfied: nvidia-nccl-cu12==2.20.5 in /usr/local/lib/python3.10/dist-packages (from torch>=1.4->geffnet==1.0.2) (2.20.5)\n",
            "Requirement already satisfied: nvidia-nvtx-cu12==12.1.105 in /usr/local/lib/python3.10/dist-packages (from torch>=1.4->geffnet==1.0.2) (12.1.105)\n",
            "Requirement already satisfied: triton==2.3.1 in /usr/local/lib/python3.10/dist-packages (from torch>=1.4->geffnet==1.0.2) (2.3.1)\n",
            "Requirement already satisfied: nvidia-nvjitlink-cu12 in /usr/local/lib/python3.10/dist-packages (from nvidia-cusolver-cu12==11.4.5.107->torch>=1.4->geffnet==1.0.2) (12.5.82)\n",
            "Requirement already satisfied: numpy in /usr/local/lib/python3.10/dist-packages (from torchvision->geffnet==1.0.2) (1.26.4)\n",
            "Requirement already satisfied: pillow!=8.3.*,>=5.3.0 in /usr/local/lib/python3.10/dist-packages (from torchvision->geffnet==1.0.2) (9.4.0)\n",
            "Requirement already satisfied: MarkupSafe>=2.0 in /usr/local/lib/python3.10/dist-packages (from jinja2->torch>=1.4->geffnet==1.0.2) (2.1.5)\n",
            "Requirement already satisfied: mpmath<1.4,>=1.1.0 in /usr/local/lib/python3.10/dist-packages (from sympy->torch>=1.4->geffnet==1.0.2) (1.3.0)\n",
            "Collecting git+https://github.com/bassantmedhat/fastseg.git\n",
            "  Cloning https://github.com/bassantmedhat/fastseg.git to /tmp/pip-req-build-v2n5uozx\n",
            "  Running command git clone --filter=blob:none --quiet https://github.com/bassantmedhat/fastseg.git /tmp/pip-req-build-v2n5uozx\n",
            "  Resolved https://github.com/bassantmedhat/fastseg.git to commit cf92833e55f90bdb29c1741b92171d7342ec306b\n",
            "  Preparing metadata (setup.py) ... \u001b[?25l\u001b[?25hdone\n",
            "Requirement already satisfied: geffnet>=0.9.8 in /usr/local/lib/python3.10/dist-packages (from fastseg==0.1.2) (1.0.2)\n",
            "Requirement already satisfied: Pillow>=7.0.0 in /usr/local/lib/python3.10/dist-packages (from fastseg==0.1.2) (9.4.0)\n",
            "Requirement already satisfied: numpy>=1.18.0 in /usr/local/lib/python3.10/dist-packages (from fastseg==0.1.2) (1.26.4)\n",
            "Requirement already satisfied: torch>=1.5.0 in /usr/local/lib/python3.10/dist-packages (from fastseg==0.1.2) (2.3.1+cu121)\n",
            "Requirement already satisfied: torchvision>=0.6.0 in /usr/local/lib/python3.10/dist-packages (from fastseg==0.1.2) (0.18.1+cu121)\n",
            "Requirement already satisfied: filelock in /usr/local/lib/python3.10/dist-packages (from torch>=1.5.0->fastseg==0.1.2) (3.15.4)\n",
            "Requirement already satisfied: typing-extensions>=4.8.0 in /usr/local/lib/python3.10/dist-packages (from torch>=1.5.0->fastseg==0.1.2) (4.12.2)\n",
            "Requirement already satisfied: sympy in /usr/local/lib/python3.10/dist-packages (from torch>=1.5.0->fastseg==0.1.2) (1.13.1)\n",
            "Requirement already satisfied: networkx in /usr/local/lib/python3.10/dist-packages (from torch>=1.5.0->fastseg==0.1.2) (3.3)\n",
            "Requirement already satisfied: jinja2 in /usr/local/lib/python3.10/dist-packages (from torch>=1.5.0->fastseg==0.1.2) (3.1.4)\n",
            "Requirement already satisfied: fsspec in /usr/local/lib/python3.10/dist-packages (from torch>=1.5.0->fastseg==0.1.2) (2024.6.1)\n",
            "Requirement already satisfied: nvidia-cuda-nvrtc-cu12==12.1.105 in /usr/local/lib/python3.10/dist-packages (from torch>=1.5.0->fastseg==0.1.2) (12.1.105)\n",
            "Requirement already satisfied: nvidia-cuda-runtime-cu12==12.1.105 in /usr/local/lib/python3.10/dist-packages (from torch>=1.5.0->fastseg==0.1.2) (12.1.105)\n",
            "Requirement already satisfied: nvidia-cuda-cupti-cu12==12.1.105 in /usr/local/lib/python3.10/dist-packages (from torch>=1.5.0->fastseg==0.1.2) (12.1.105)\n",
            "Requirement already satisfied: nvidia-cudnn-cu12==8.9.2.26 in /usr/local/lib/python3.10/dist-packages (from torch>=1.5.0->fastseg==0.1.2) (8.9.2.26)\n",
            "Requirement already satisfied: nvidia-cublas-cu12==12.1.3.1 in /usr/local/lib/python3.10/dist-packages (from torch>=1.5.0->fastseg==0.1.2) (12.1.3.1)\n",
            "Requirement already satisfied: nvidia-cufft-cu12==11.0.2.54 in /usr/local/lib/python3.10/dist-packages (from torch>=1.5.0->fastseg==0.1.2) (11.0.2.54)\n",
            "Requirement already satisfied: nvidia-curand-cu12==10.3.2.106 in /usr/local/lib/python3.10/dist-packages (from torch>=1.5.0->fastseg==0.1.2) (10.3.2.106)\n",
            "Requirement already satisfied: nvidia-cusolver-cu12==11.4.5.107 in /usr/local/lib/python3.10/dist-packages (from torch>=1.5.0->fastseg==0.1.2) (11.4.5.107)\n",
            "Requirement already satisfied: nvidia-cusparse-cu12==12.1.0.106 in /usr/local/lib/python3.10/dist-packages (from torch>=1.5.0->fastseg==0.1.2) (12.1.0.106)\n",
            "Requirement already satisfied: nvidia-nccl-cu12==2.20.5 in /usr/local/lib/python3.10/dist-packages (from torch>=1.5.0->fastseg==0.1.2) (2.20.5)\n",
            "Requirement already satisfied: nvidia-nvtx-cu12==12.1.105 in /usr/local/lib/python3.10/dist-packages (from torch>=1.5.0->fastseg==0.1.2) (12.1.105)\n",
            "Requirement already satisfied: triton==2.3.1 in /usr/local/lib/python3.10/dist-packages (from torch>=1.5.0->fastseg==0.1.2) (2.3.1)\n",
            "Requirement already satisfied: nvidia-nvjitlink-cu12 in /usr/local/lib/python3.10/dist-packages (from nvidia-cusolver-cu12==11.4.5.107->torch>=1.5.0->fastseg==0.1.2) (12.5.82)\n",
            "Requirement already satisfied: MarkupSafe>=2.0 in /usr/local/lib/python3.10/dist-packages (from jinja2->torch>=1.5.0->fastseg==0.1.2) (2.1.5)\n",
            "Requirement already satisfied: mpmath<1.4,>=1.1.0 in /usr/local/lib/python3.10/dist-packages (from sympy->torch>=1.5.0->fastseg==0.1.2) (1.3.0)\n"
          ]
        }
      ]
    },
    {
      "cell_type": "markdown",
      "metadata": {
        "id": "kvkQcD-IWnZB"
      },
      "source": [
        "# Define Model"
      ]
    },
    {
      "cell_type": "code",
      "execution_count": 11,
      "metadata": {
        "id": "FbEt-xVUj58U"
      },
      "outputs": [],
      "source": [
        "from fastseg import MobileV3Small\n",
        "import torch\n",
        "import torch.nn as nn\n",
        "\n",
        "class MobileV3SmallWithSoftmax(nn.Module):\n",
        "    def __init__(self, num_classes=3, use_aspp=True, num_filters=64):\n",
        "        super(MobileV3SmallWithSoftmax, self).__init__()\n",
        "        # Initialize the base MobileV3Small model\n",
        "        self.model = MobileV3Small(num_classes=num_classes, use_aspp=use_aspp, num_filters=num_filters)\n",
        "\n",
        "        # Define a Softmax layer for the final output\n",
        "        self.softmax = nn.Softmax(dim=1)\n",
        "\n",
        "    def forward(self, x):\n",
        "        # Forward pass through the base model\n",
        "        x = self.model(x)\n",
        "\n",
        "        # Apply Softmax to the output\n",
        "        x = self.softmax(x)\n",
        "\n",
        "        return x\n"
      ]
    },
    {
      "cell_type": "code",
      "source": [
        "import torch\n",
        "# load pretrained model to perform Quantization\n",
        "model = MobileV3SmallWithSoftmax(num_classes=3, use_aspp=True, num_filters=64)\n",
        "model.load_state_dict(torch.load('/content/drive/MyDrive/final_TRAINED_model.pth',map_location = \"cpu\"))\n",
        "model = model.to(device)\n",
        "\n",
        "\n"
      ],
      "metadata": {
        "collapsed": true,
        "id": "Kx5IIKVagRyW"
      },
      "execution_count": 12,
      "outputs": []
    },
    {
      "cell_type": "markdown",
      "source": [
        "#Building Training & Testing Pipeline\n"
      ],
      "metadata": {
        "id": "-PSEVCwPpJN1"
      }
    },
    {
      "cell_type": "code",
      "source": [
        "# some other usefuls libs\n",
        "\n",
        "from fastai.vision.all import *\n",
        "import os\n",
        "import matplotlib.pyplot as plt\n",
        "import cv2\n",
        "\n",
        "\n",
        "own_data = True\n",
        "path = \"/content/drive/MyDrive/lane_Data/\"\n",
        "\n",
        "def get_image_array_from_fn(fn):\n",
        "    image = cv2.imread(fn)\n",
        "    return cv2.cvtColor(image, cv2.COLOR_BGR2RGB)\n"
      ],
      "metadata": {
        "id": "vgLe_9pVpH0F"
      },
      "execution_count": 13,
      "outputs": []
    },
    {
      "cell_type": "code",
      "source": [
        "from sys import platform\n",
        "folder_token = \"\\\\\" if platform == \"win32\" else \"/\"\n",
        "fnames = get_image_files(path+\"train/\")"
      ],
      "metadata": {
        "id": "Z0j_EMPXNQVC"
      },
      "execution_count": 14,
      "outputs": []
    },
    {
      "cell_type": "code",
      "source": [
        "def label_func(fn): return path+\"train_label\"+f\"/{fn.stem}_label{fn.suffix}\"\n",
        "codes = np.array(['back', 'left','right'],dtype=str)"
      ],
      "metadata": {
        "id": "qc4v3xK9M4Ur"
      },
      "execution_count": 15,
      "outputs": []
    },
    {
      "cell_type": "code",
      "source": [
        "dls = SegmentationDataLoaders.from_label_func(\n",
        "    path, bs=8, fnames = fnames, label_func = label_func, codes = codes\n",
        ")\n",
        "learn = Learner(dls,  model, metrics=[DiceMulti(), foreground_acc])"
      ],
      "metadata": {
        "id": "mC11OMjWNWMH"
      },
      "execution_count": 16,
      "outputs": []
    },
    {
      "cell_type": "code",
      "source": [
        "# optional if you want to fine tune your pretarined model\n",
        "def train(learn,epochs):\n",
        "  learn.fine_tune(epochs)\n",
        "  model = learn.model"
      ],
      "metadata": {
        "id": "z2NVjHr-pkrk"
      },
      "execution_count": 17,
      "outputs": []
    },
    {
      "cell_type": "code",
      "source": [
        "# train(learn,5)"
      ],
      "metadata": {
        "collapsed": true,
        "id": "JD2juej4dSA4"
      },
      "execution_count": 19,
      "outputs": []
    },
    {
      "cell_type": "markdown",
      "source": [
        "## Plot a validation sample output from the original model to compare it with the output from the quantized model"
      ],
      "metadata": {
        "id": "-0Qp98ElNh5c"
      }
    },
    {
      "cell_type": "code",
      "source": [
        "# Load an example image\n",
        "test_path = path+\"./test\"\n",
        "print(str((test_path)))\n",
        "img = cv2.imread(str(get_image_files(test_path)[1]))\n",
        "img = cv2.cvtColor(img,cv2.COLOR_BGR2RGB)\n",
        "print(img.shape)\n",
        "print(str(get_image_files(test_path)[5]))\n",
        "plt.imshow(np.array(learn.predict(img)[0]))"
      ],
      "metadata": {
        "colab": {
          "base_uri": "https://localhost:8080/",
          "height": 373
        },
        "collapsed": true,
        "id": "JWHQeY1irRGh",
        "outputId": "640834f6-cfb3-4546-ddcf-fe90c5c8c929"
      },
      "execution_count": 20,
      "outputs": [
        {
          "output_type": "stream",
          "name": "stdout",
          "text": [
            "/content/drive/MyDrive/lane_Data/./test\n",
            "(89, 256, 3)\n",
            "/content/drive/MyDrive/lane_Data/test/resized_Town04_Clear_Noon_09_09_2020_14_57_22_frame_1172_validation_set.png\n"
          ]
        },
        {
          "output_type": "display_data",
          "data": {
            "text/plain": [
              "<IPython.core.display.HTML object>"
            ],
            "text/html": [
              "<table border=\"1\" class=\"dataframe\">\n",
              "  <thead>\n",
              "    <tr style=\"text-align: left;\">\n",
              "      <th>epoch</th>\n",
              "      <th>train_loss</th>\n",
              "      <th>valid_loss</th>\n",
              "      <th>dice_multi</th>\n",
              "      <th>foreground_acc</th>\n",
              "      <th>time</th>\n",
              "    </tr>\n",
              "  </thead>\n",
              "  <tbody>\n",
              "  </tbody>\n",
              "</table>"
            ]
          },
          "metadata": {}
        },
        {
          "output_type": "stream",
          "name": "stderr",
          "text": [
            "/usr/local/lib/python3.10/dist-packages/fastai/metrics.py:373: RuntimeWarning: Mean of empty slice\n",
            "  return np.nanmean(binary_dice_scores)\n"
          ]
        },
        {
          "output_type": "execute_result",
          "data": {
            "text/plain": [
              "<matplotlib.image.AxesImage at 0x7d1330538be0>"
            ]
          },
          "metadata": {},
          "execution_count": 20
        },
        {
          "output_type": "display_data",
          "data": {
            "text/plain": [
              "<Figure size 640x480 with 1 Axes>"
            ],
            "image/png": "[encoded data removed]"
          },
          "metadata": {}
        }
      ]
    },
    {
      "cell_type": "code",
      "source": [
        "# Export the model if you have fine-tuned it\n",
        "torch.save(model.state_dict(), '/content/drive/MyDrive/final_TRAINED_model.pth')"
      ],
      "metadata": {
        "id": "j1lAq7auyUcE"
      },
      "execution_count": 21,
      "outputs": []
    },
    {
      "cell_type": "markdown",
      "metadata": {
        "id": "lIOiLD_1wUwd"
      },
      "source": [
        "## Post training static quantization"
      ]
    },
    {
      "cell_type": "code",
      "source": [
        "import torch\n",
        "import torch.nn as nn\n",
        "import torch.ao.quantization\n",
        "\n",
        "class QuantizedMobileV3SmallWithSoftmax(nn.Module):\n",
        "    def __init__(self, num_classes=3, use_aspp=True, num_filters=64):\n",
        "        super(QuantizedMobileV3SmallWithSoftmax, self).__init__()\n",
        "        # Define quantization and dequantization stubs\n",
        "        self.quant = torch.ao.quantization.QuantStub()\n",
        "        self.dequant = torch.ao.quantization.DeQuantStub()\n",
        "\n",
        "        # Define the main model\n",
        "        self.model = MobileV3Small(num_classes=num_classes, use_aspp=use_aspp, num_filters=num_filters)\n",
        "\n",
        "        # Define the softmax layer for the final output\n",
        "        self.softmax = nn.Softmax(dim=1)\n",
        "\n",
        "    def forward(self, x):\n",
        "        # Quantize the input\n",
        "        x = self.quant(x)\n",
        "\n",
        "        # Pass through the main model\n",
        "        x = self.model(x)\n",
        "\n",
        "        # Dequantize the output\n",
        "        x = self.dequant(x)\n",
        "\n",
        "        # Apply softmax to the output\n",
        "        x = self.softmax(x)\n",
        "\n",
        "        return x\n"
      ],
      "metadata": {
        "id": "P64pd0mQFhSG",
        "collapsed": true
      },
      "execution_count": 22,
      "outputs": []
    },
    {
      "cell_type": "code",
      "execution_count": 23,
      "metadata": {
        "id": "JEOqzAFfw5ud"
      },
      "outputs": [],
      "source": [
        "def print_size_of_model(model):\n",
        "    torch.save(model.state_dict(), \"temp_delme.p\")\n",
        "    print('Size (KB):', os.path.getsize(\"temp_delme.p\")/1e3)\n",
        "    os.remove('temp_delme.p')\n"
      ]
    },
    {
      "cell_type": "code",
      "source": [
        "# Initialize the quantized model architecture\n",
        "net_quantized = QuantizedMobileV3SmallWithSoftmax().to(device)\n",
        "\n",
        "# Define the path to the pretrained model weights\n",
        "model_path = '/content/drive/MyDrive/final_TRAINED_model.pth'\n",
        "\n",
        "# Load the pretrained model weights\n",
        "state_dict = torch.load(model_path, map_location='cpu')\n",
        "\n",
        "# Load the state dictionary into the model with relaxed state dict checking\n",
        "net_quantized.load_state_dict(state_dict, strict=False)\n",
        "\n",
        "# Set the model to evaluation mode\n",
        "net_quantized.eval()"
      ],
      "metadata": {
        "colab": {
          "base_uri": "https://localhost:8080/"
        },
        "id": "LrKkBTQed6Oh",
        "outputId": "364a84b9-082a-4b14-b3db-0a813efba621",
        "collapsed": true
      },
      "execution_count": 24,
      "outputs": [
        {
          "output_type": "execute_result",
          "data": {
            "text/plain": [
              "QuantizedMobileV3SmallWithSoftmax(\n",
              "  (quant): QuantStub()\n",
              "  (dequant): DeQuantStub()\n",
              "  (model): MobileV3Small(\n",
              "    (trunk): MobileNetV3_Small(\n",
              "      (early): Sequential(\n",
              "        (0): Conv2dSame(\n",
              "          3, 16, kernel_size=(3, 3), stride=(2, 2), bias=False\n",
              "          (quant): QuantStub()\n",
              "          (dequant): DeQuantStub()\n",
              "        )\n",
              "        (1): BatchNorm2d(16, eps=0.001, momentum=0.1, affine=True, track_running_stats=True)\n",
              "        (2): HardSwishMe()\n",
              "      )\n",
              "      (block0): Sequential(\n",
              "        (0): DepthwiseSeparableConv(\n",
              "          (conv_dw): Conv2dSame(\n",
              "            16, 16, kernel_size=(3, 3), stride=(2, 2), groups=16, bias=False\n",
              "            (quant): QuantStub()\n",
              "            (dequant): DeQuantStub()\n",
              "          )\n",
              "          (bn1): BatchNorm2d(16, eps=0.001, momentum=0.1, affine=True, track_running_stats=True)\n",
              "          (act1): ReLU(inplace=True)\n",
              "          (se): SqueezeExcite(\n",
              "            (conv_reduce): Conv2d(16, 8, kernel_size=(1, 1), stride=(1, 1))\n",
              "            (quant): QuantStub()\n",
              "            (dequant): DeQuantStub()\n",
              "            (act1): ReLU(inplace=True)\n",
              "            (conv_expand): Conv2d(8, 16, kernel_size=(1, 1), stride=(1, 1))\n",
              "          )\n",
              "          (conv_pw): Conv2d(16, 16, kernel_size=(1, 1), stride=(1, 1), bias=False)\n",
              "          (bn2): BatchNorm2d(16, eps=0.001, momentum=0.1, affine=True, track_running_stats=True)\n",
              "          (act2): Identity()\n",
              "        )\n",
              "      )\n",
              "      (block1): Sequential(\n",
              "        (0): InvertedResidual(\n",
              "          (conv_pw): Conv2d(16, 72, kernel_size=(1, 1), stride=(1, 1), bias=False)\n",
              "          (bn1): BatchNorm2d(72, eps=0.001, momentum=0.1, affine=True, track_running_stats=True)\n",
              "          (act1): ReLU(inplace=True)\n",
              "          (conv_dw): Conv2dSame(\n",
              "            72, 72, kernel_size=(3, 3), stride=(2, 2), groups=72, bias=False\n",
              "            (quant): QuantStub()\n",
              "            (dequant): DeQuantStub()\n",
              "          )\n",
              "          (bn2): BatchNorm2d(72, eps=0.001, momentum=0.1, affine=True, track_running_stats=True)\n",
              "          (act2): ReLU(inplace=True)\n",
              "          (se): Identity()\n",
              "          (conv_pwl): Conv2d(72, 24, kernel_size=(1, 1), stride=(1, 1), bias=False)\n",
              "          (bn3): BatchNorm2d(24, eps=0.001, momentum=0.1, affine=True, track_running_stats=True)\n",
              "          (quant): QuantStub()\n",
              "          (dequant): DeQuantStub()\n",
              "        )\n",
              "        (1): InvertedResidual(\n",
              "          (conv_pw): Conv2d(24, 88, kernel_size=(1, 1), stride=(1, 1), bias=False)\n",
              "          (bn1): BatchNorm2d(88, eps=0.001, momentum=0.1, affine=True, track_running_stats=True)\n",
              "          (act1): ReLU(inplace=True)\n",
              "          (conv_dw): Conv2d(88, 88, kernel_size=(3, 3), stride=(1, 1), padding=(1, 1), groups=88, bias=False)\n",
              "          (bn2): BatchNorm2d(88, eps=0.001, momentum=0.1, affine=True, track_running_stats=True)\n",
              "          (act2): ReLU(inplace=True)\n",
              "          (se): Identity()\n",
              "          (conv_pwl): Conv2d(88, 24, kernel_size=(1, 1), stride=(1, 1), bias=False)\n",
              "          (bn3): BatchNorm2d(24, eps=0.001, momentum=0.1, affine=True, track_running_stats=True)\n",
              "          (quant): QuantStub()\n",
              "          (dequant): DeQuantStub()\n",
              "        )\n",
              "      )\n",
              "      (block2): Sequential(\n",
              "        (0): InvertedResidual(\n",
              "          (conv_pw): Conv2d(24, 96, kernel_size=(1, 1), stride=(1, 1), bias=False)\n",
              "          (bn1): BatchNorm2d(96, eps=0.001, momentum=0.1, affine=True, track_running_stats=True)\n",
              "          (act1): HardSwishMe()\n",
              "          (conv_dw): Conv2dSame(\n",
              "            96, 96, kernel_size=(5, 5), stride=(1, 1), dilation=(2, 2), groups=96, bias=False\n",
              "            (quant): QuantStub()\n",
              "            (dequant): DeQuantStub()\n",
              "          )\n",
              "          (bn2): BatchNorm2d(96, eps=0.001, momentum=0.1, affine=True, track_running_stats=True)\n",
              "          (act2): HardSwishMe()\n",
              "          (se): SqueezeExcite(\n",
              "            (conv_reduce): Conv2d(96, 24, kernel_size=(1, 1), stride=(1, 1))\n",
              "            (quant): QuantStub()\n",
              "            (dequant): DeQuantStub()\n",
              "            (act1): ReLU(inplace=True)\n",
              "            (conv_expand): Conv2d(24, 96, kernel_size=(1, 1), stride=(1, 1))\n",
              "          )\n",
              "          (conv_pwl): Conv2d(96, 40, kernel_size=(1, 1), stride=(1, 1), bias=False)\n",
              "          (bn3): BatchNorm2d(40, eps=0.001, momentum=0.1, affine=True, track_running_stats=True)\n",
              "          (quant): QuantStub()\n",
              "          (dequant): DeQuantStub()\n",
              "        )\n",
              "        (1): InvertedResidual(\n",
              "          (conv_pw): Conv2d(40, 240, kernel_size=(1, 1), stride=(1, 1), bias=False)\n",
              "          (bn1): BatchNorm2d(240, eps=0.001, momentum=0.1, affine=True, track_running_stats=True)\n",
              "          (act1): HardSwishMe()\n",
              "          (conv_dw): Conv2d(240, 240, kernel_size=(5, 5), stride=(1, 1), padding=(4, 4), dilation=(2, 2), groups=240, bias=False)\n",
              "          (bn2): BatchNorm2d(240, eps=0.001, momentum=0.1, affine=True, track_running_stats=True)\n",
              "          (act2): HardSwishMe()\n",
              "          (se): SqueezeExcite(\n",
              "            (conv_reduce): Conv2d(240, 64, kernel_size=(1, 1), stride=(1, 1))\n",
              "            (quant): QuantStub()\n",
              "            (dequant): DeQuantStub()\n",
              "            (act1): ReLU(inplace=True)\n",
              "            (conv_expand): Conv2d(64, 240, kernel_size=(1, 1), stride=(1, 1))\n",
              "          )\n",
              "          (conv_pwl): Conv2d(240, 40, kernel_size=(1, 1), stride=(1, 1), bias=False)\n",
              "          (bn3): BatchNorm2d(40, eps=0.001, momentum=0.1, affine=True, track_running_stats=True)\n",
              "          (quant): QuantStub()\n",
              "          (dequant): DeQuantStub()\n",
              "        )\n",
              "        (2): InvertedResidual(\n",
              "          (conv_pw): Conv2d(40, 240, kernel_size=(1, 1), stride=(1, 1), bias=False)\n",
              "          (bn1): BatchNorm2d(240, eps=0.001, momentum=0.1, affine=True, track_running_stats=True)\n",
              "          (act1): HardSwishMe()\n",
              "          (conv_dw): Conv2d(240, 240, kernel_size=(5, 5), stride=(1, 1), padding=(4, 4), dilation=(2, 2), groups=240, bias=False)\n",
              "          (bn2): BatchNorm2d(240, eps=0.001, momentum=0.1, affine=True, track_running_stats=True)\n",
              "          (act2): HardSwishMe()\n",
              "          (se): SqueezeExcite(\n",
              "            (conv_reduce): Conv2d(240, 64, kernel_size=(1, 1), stride=(1, 1))\n",
              "            (quant): QuantStub()\n",
              "            (dequant): DeQuantStub()\n",
              "            (act1): ReLU(inplace=True)\n",
              "            (conv_expand): Conv2d(64, 240, kernel_size=(1, 1), stride=(1, 1))\n",
              "          )\n",
              "          (conv_pwl): Conv2d(240, 40, kernel_size=(1, 1), stride=(1, 1), bias=False)\n",
              "          (bn3): BatchNorm2d(40, eps=0.001, momentum=0.1, affine=True, track_running_stats=True)\n",
              "          (quant): QuantStub()\n",
              "          (dequant): DeQuantStub()\n",
              "        )\n",
              "      )\n",
              "      (block3): Sequential(\n",
              "        (0): InvertedResidual(\n",
              "          (conv_pw): Conv2d(40, 120, kernel_size=(1, 1), stride=(1, 1), bias=False)\n",
              "          (bn1): BatchNorm2d(120, eps=0.001, momentum=0.1, affine=True, track_running_stats=True)\n",
              "          (act1): HardSwishMe()\n",
              "          (conv_dw): Conv2d(120, 120, kernel_size=(5, 5), stride=(1, 1), padding=(4, 4), dilation=(2, 2), groups=120, bias=False)\n",
              "          (bn2): BatchNorm2d(120, eps=0.001, momentum=0.1, affine=True, track_running_stats=True)\n",
              "          (act2): HardSwishMe()\n",
              "          (se): SqueezeExcite(\n",
              "            (conv_reduce): Conv2d(120, 32, kernel_size=(1, 1), stride=(1, 1))\n",
              "            (quant): QuantStub()\n",
              "            (dequant): DeQuantStub()\n",
              "            (act1): ReLU(inplace=True)\n",
              "            (conv_expand): Conv2d(32, 120, kernel_size=(1, 1), stride=(1, 1))\n",
              "          )\n",
              "          (conv_pwl): Conv2d(120, 48, kernel_size=(1, 1), stride=(1, 1), bias=False)\n",
              "          (bn3): BatchNorm2d(48, eps=0.001, momentum=0.1, affine=True, track_running_stats=True)\n",
              "          (quant): QuantStub()\n",
              "          (dequant): DeQuantStub()\n",
              "        )\n",
              "        (1): InvertedResidual(\n",
              "          (conv_pw): Conv2d(48, 144, kernel_size=(1, 1), stride=(1, 1), bias=False)\n",
              "          (bn1): BatchNorm2d(144, eps=0.001, momentum=0.1, affine=True, track_running_stats=True)\n",
              "          (act1): HardSwishMe()\n",
              "          (conv_dw): Conv2d(144, 144, kernel_size=(5, 5), stride=(1, 1), padding=(4, 4), dilation=(2, 2), groups=144, bias=False)\n",
              "          (bn2): BatchNorm2d(144, eps=0.001, momentum=0.1, affine=True, track_running_stats=True)\n",
              "          (act2): HardSwishMe()\n",
              "          (se): SqueezeExcite(\n",
              "            (conv_reduce): Conv2d(144, 40, kernel_size=(1, 1), stride=(1, 1))\n",
              "            (quant): QuantStub()\n",
              "            (dequant): DeQuantStub()\n",
              "            (act1): ReLU(inplace=True)\n",
              "            (conv_expand): Conv2d(40, 144, kernel_size=(1, 1), stride=(1, 1))\n",
              "          )\n",
              "          (conv_pwl): Conv2d(144, 48, kernel_size=(1, 1), stride=(1, 1), bias=False)\n",
              "          (bn3): BatchNorm2d(48, eps=0.001, momentum=0.1, affine=True, track_running_stats=True)\n",
              "          (quant): QuantStub()\n",
              "          (dequant): DeQuantStub()\n",
              "        )\n",
              "      )\n",
              "      (block4): Sequential(\n",
              "        (0): InvertedResidual(\n",
              "          (conv_pw): Conv2d(48, 288, kernel_size=(1, 1), stride=(1, 1), bias=False)\n",
              "          (bn1): BatchNorm2d(288, eps=0.001, momentum=0.1, affine=True, track_running_stats=True)\n",
              "          (act1): HardSwishMe()\n",
              "          (conv_dw): Conv2dSame(\n",
              "            288, 288, kernel_size=(5, 5), stride=(1, 1), dilation=(4, 4), groups=288, bias=False\n",
              "            (quant): QuantStub()\n",
              "            (dequant): DeQuantStub()\n",
              "          )\n",
              "          (bn2): BatchNorm2d(288, eps=0.001, momentum=0.1, affine=True, track_running_stats=True)\n",
              "          (act2): HardSwishMe()\n",
              "          (se): SqueezeExcite(\n",
              "            (conv_reduce): Conv2d(288, 72, kernel_size=(1, 1), stride=(1, 1))\n",
              "            (quant): QuantStub()\n",
              "            (dequant): DeQuantStub()\n",
              "            (act1): ReLU(inplace=True)\n",
              "            (conv_expand): Conv2d(72, 288, kernel_size=(1, 1), stride=(1, 1))\n",
              "          )\n",
              "          (conv_pwl): Conv2d(288, 96, kernel_size=(1, 1), stride=(1, 1), bias=False)\n",
              "          (bn3): BatchNorm2d(96, eps=0.001, momentum=0.1, affine=True, track_running_stats=True)\n",
              "          (quant): QuantStub()\n",
              "          (dequant): DeQuantStub()\n",
              "        )\n",
              "        (1): InvertedResidual(\n",
              "          (conv_pw): Conv2d(96, 576, kernel_size=(1, 1), stride=(1, 1), bias=False)\n",
              "          (bn1): BatchNorm2d(576, eps=0.001, momentum=0.1, affine=True, track_running_stats=True)\n",
              "          (act1): HardSwishMe()\n",
              "          (conv_dw): Conv2d(576, 576, kernel_size=(5, 5), stride=(1, 1), padding=(8, 8), dilation=(4, 4), groups=576, bias=False)\n",
              "          (bn2): BatchNorm2d(576, eps=0.001, momentum=0.1, affine=True, track_running_stats=True)\n",
              "          (act2): HardSwishMe()\n",
              "          (se): SqueezeExcite(\n",
              "            (conv_reduce): Conv2d(576, 144, kernel_size=(1, 1), stride=(1, 1))\n",
              "            (quant): QuantStub()\n",
              "            (dequant): DeQuantStub()\n",
              "            (act1): ReLU(inplace=True)\n",
              "            (conv_expand): Conv2d(144, 576, kernel_size=(1, 1), stride=(1, 1))\n",
              "          )\n",
              "          (conv_pwl): Conv2d(576, 96, kernel_size=(1, 1), stride=(1, 1), bias=False)\n",
              "          (bn3): BatchNorm2d(96, eps=0.001, momentum=0.1, affine=True, track_running_stats=True)\n",
              "          (quant): QuantStub()\n",
              "          (dequant): DeQuantStub()\n",
              "        )\n",
              "        (2): InvertedResidual(\n",
              "          (conv_pw): Conv2d(96, 576, kernel_size=(1, 1), stride=(1, 1), bias=False)\n",
              "          (bn1): BatchNorm2d(576, eps=0.001, momentum=0.1, affine=True, track_running_stats=True)\n",
              "          (act1): HardSwishMe()\n",
              "          (conv_dw): Conv2d(576, 576, kernel_size=(5, 5), stride=(1, 1), padding=(8, 8), dilation=(4, 4), groups=576, bias=False)\n",
              "          (bn2): BatchNorm2d(576, eps=0.001, momentum=0.1, affine=True, track_running_stats=True)\n",
              "          (act2): HardSwishMe()\n",
              "          (se): SqueezeExcite(\n",
              "            (conv_reduce): Conv2d(576, 144, kernel_size=(1, 1), stride=(1, 1))\n",
              "            (quant): QuantStub()\n",
              "            (dequant): DeQuantStub()\n",
              "            (act1): ReLU(inplace=True)\n",
              "            (conv_expand): Conv2d(144, 576, kernel_size=(1, 1), stride=(1, 1))\n",
              "          )\n",
              "          (conv_pwl): Conv2d(576, 96, kernel_size=(1, 1), stride=(1, 1), bias=False)\n",
              "          (bn3): BatchNorm2d(96, eps=0.001, momentum=0.1, affine=True, track_running_stats=True)\n",
              "          (quant): QuantStub()\n",
              "          (dequant): DeQuantStub()\n",
              "        )\n",
              "      )\n",
              "      (block5): Sequential(\n",
              "        (0): ConvBnAct(\n",
              "          (conv): Conv2d(96, 576, kernel_size=(1, 1), stride=(1, 1), dilation=(4, 4), bias=False)\n",
              "          (bn1): BatchNorm2d(576, eps=0.001, momentum=0.1, affine=True, track_running_stats=True)\n",
              "          (act1): HardSwishMe()\n",
              "        )\n",
              "      )\n",
              "    )\n",
              "    (aspp_conv1): Sequential(\n",
              "      (0): Conv2d(576, 64, kernel_size=(1, 1), stride=(1, 1), bias=False)\n",
              "      (1): BatchNorm2d(64, eps=1e-05, momentum=0.1, affine=True, track_running_stats=True)\n",
              "      (2): ReLU(inplace=True)\n",
              "    )\n",
              "    (aspp_conv2): Sequential(\n",
              "      (0): Conv2d(576, 64, kernel_size=(1, 1), stride=(1, 1), bias=False)\n",
              "      (1): Conv2d(64, 64, kernel_size=(3, 3), stride=(1, 1), padding=(12, 12), dilation=(12, 12))\n",
              "      (2): BatchNorm2d(64, eps=1e-05, momentum=0.1, affine=True, track_running_stats=True)\n",
              "      (3): ReLU(inplace=True)\n",
              "    )\n",
              "    (aspp_conv3): Sequential(\n",
              "      (0): Conv2d(576, 64, kernel_size=(1, 1), stride=(1, 1), bias=False)\n",
              "      (1): Conv2d(64, 64, kernel_size=(3, 3), stride=(1, 1), padding=(36, 36), dilation=(36, 36))\n",
              "      (2): BatchNorm2d(64, eps=1e-05, momentum=0.1, affine=True, track_running_stats=True)\n",
              "      (3): ReLU(inplace=True)\n",
              "    )\n",
              "    (aspp_pool): Sequential(\n",
              "      (0): AdaptiveAvgPool2d(output_size=1)\n",
              "      (1): Conv2d(576, 64, kernel_size=(1, 1), stride=(1, 1), bias=False)\n",
              "      (2): BatchNorm2d(64, eps=1e-05, momentum=0.1, affine=True, track_running_stats=True)\n",
              "      (3): ReLU(inplace=True)\n",
              "    )\n",
              "    (convs2): Conv2d(16, 32, kernel_size=(1, 1), stride=(1, 1), bias=False)\n",
              "    (convs4): Conv2d(16, 64, kernel_size=(1, 1), stride=(1, 1), bias=False)\n",
              "    (conv_up1): Conv2d(256, 64, kernel_size=(1, 1), stride=(1, 1))\n",
              "    (conv_up2): ConvBnRelu(\n",
              "      (conv): Conv2d(128, 64, kernel_size=(1, 1), stride=(1, 1), bias=False)\n",
              "      (bn): BatchNorm2d(64, eps=1e-05, momentum=0.1, affine=True, track_running_stats=True)\n",
              "      (relu): ReLU(inplace=True)\n",
              "    )\n",
              "    (conv_up3): ConvBnRelu(\n",
              "      (conv): Conv2d(96, 64, kernel_size=(1, 1), stride=(1, 1), bias=False)\n",
              "      (bn): BatchNorm2d(64, eps=1e-05, momentum=0.1, affine=True, track_running_stats=True)\n",
              "      (relu): ReLU(inplace=True)\n",
              "    )\n",
              "    (last): Conv2d(64, 3, kernel_size=(1, 1), stride=(1, 1))\n",
              "  )\n",
              "  (softmax): Softmax(dim=1)\n",
              ")"
            ]
          },
          "metadata": {},
          "execution_count": 24
        }
      ]
    },
    {
      "cell_type": "code",
      "source": [
        "import torch\n",
        "from torch.ao.quantization import default_qconfig, prepare\n",
        "\n",
        "# Set quantization configuration for the model\n",
        "net_quantized.qconfig = default_qconfig\n",
        "\n",
        "# Disable quantization for specific parts of the model, if needed\n",
        "net_quantized.softmax.qconfig = None  # Disable quantization for the softmax layer\n",
        "\n",
        "# Insert observers for tracking statistics during calibration\n",
        "net_quantized = prepare(net_quantized)\n",
        "\n",
        "# Display the model with observers inserted\n",
        "net_quantized\n"
      ],
      "metadata": {
        "id": "VJ3QDLF_bbYR",
        "colab": {
          "base_uri": "https://localhost:8080/"
        },
        "collapsed": true,
        "outputId": "b8cba072-2cdf-4691-bf4d-4029da45e439"
      },
      "execution_count": 25,
      "outputs": [
        {
          "output_type": "execute_result",
          "data": {
            "text/plain": [
              "QuantizedMobileV3SmallWithSoftmax(\n",
              "  (quant): QuantStub(\n",
              "    (activation_post_process): MinMaxObserver(min_val=inf, max_val=-inf)\n",
              "  )\n",
              "  (dequant): DeQuantStub()\n",
              "  (model): MobileV3Small(\n",
              "    (trunk): MobileNetV3_Small(\n",
              "      (early): Sequential(\n",
              "        (0): Conv2dSame(\n",
              "          3, 16, kernel_size=(3, 3), stride=(2, 2), bias=False\n",
              "          (quant): QuantStub(\n",
              "            (activation_post_process): MinMaxObserver(min_val=inf, max_val=-inf)\n",
              "          )\n",
              "          (dequant): DeQuantStub()\n",
              "        )\n",
              "        (1): BatchNorm2d(\n",
              "          16, eps=0.001, momentum=0.1, affine=True, track_running_stats=True\n",
              "          (activation_post_process): MinMaxObserver(min_val=inf, max_val=-inf)\n",
              "        )\n",
              "        (2): HardSwishMe()\n",
              "      )\n",
              "      (block0): Sequential(\n",
              "        (0): DepthwiseSeparableConv(\n",
              "          (conv_dw): Conv2dSame(\n",
              "            16, 16, kernel_size=(3, 3), stride=(2, 2), groups=16, bias=False\n",
              "            (quant): QuantStub(\n",
              "              (activation_post_process): MinMaxObserver(min_val=inf, max_val=-inf)\n",
              "            )\n",
              "            (dequant): DeQuantStub()\n",
              "          )\n",
              "          (bn1): BatchNorm2d(\n",
              "            16, eps=0.001, momentum=0.1, affine=True, track_running_stats=True\n",
              "            (activation_post_process): MinMaxObserver(min_val=inf, max_val=-inf)\n",
              "          )\n",
              "          (act1): ReLU(inplace=True)\n",
              "          (se): SqueezeExcite(\n",
              "            (conv_reduce): Conv2d(\n",
              "              16, 8, kernel_size=(1, 1), stride=(1, 1)\n",
              "              (activation_post_process): MinMaxObserver(min_val=inf, max_val=-inf)\n",
              "            )\n",
              "            (quant): QuantStub(\n",
              "              (activation_post_process): MinMaxObserver(min_val=inf, max_val=-inf)\n",
              "            )\n",
              "            (dequant): DeQuantStub()\n",
              "            (act1): ReLU(inplace=True)\n",
              "            (conv_expand): Conv2d(\n",
              "              8, 16, kernel_size=(1, 1), stride=(1, 1)\n",
              "              (activation_post_process): MinMaxObserver(min_val=inf, max_val=-inf)\n",
              "            )\n",
              "          )\n",
              "          (conv_pw): Conv2d(\n",
              "            16, 16, kernel_size=(1, 1), stride=(1, 1), bias=False\n",
              "            (activation_post_process): MinMaxObserver(min_val=inf, max_val=-inf)\n",
              "          )\n",
              "          (bn2): BatchNorm2d(\n",
              "            16, eps=0.001, momentum=0.1, affine=True, track_running_stats=True\n",
              "            (activation_post_process): MinMaxObserver(min_val=inf, max_val=-inf)\n",
              "          )\n",
              "          (act2): Identity()\n",
              "        )\n",
              "      )\n",
              "      (block1): Sequential(\n",
              "        (0): InvertedResidual(\n",
              "          (conv_pw): Conv2d(\n",
              "            16, 72, kernel_size=(1, 1), stride=(1, 1), bias=False\n",
              "            (activation_post_process): MinMaxObserver(min_val=inf, max_val=-inf)\n",
              "          )\n",
              "          (bn1): BatchNorm2d(\n",
              "            72, eps=0.001, momentum=0.1, affine=True, track_running_stats=True\n",
              "            (activation_post_process): MinMaxObserver(min_val=inf, max_val=-inf)\n",
              "          )\n",
              "          (act1): ReLU(inplace=True)\n",
              "          (conv_dw): Conv2dSame(\n",
              "            72, 72, kernel_size=(3, 3), stride=(2, 2), groups=72, bias=False\n",
              "            (quant): QuantStub(\n",
              "              (activation_post_process): MinMaxObserver(min_val=inf, max_val=-inf)\n",
              "            )\n",
              "            (dequant): DeQuantStub()\n",
              "          )\n",
              "          (bn2): BatchNorm2d(\n",
              "            72, eps=0.001, momentum=0.1, affine=True, track_running_stats=True\n",
              "            (activation_post_process): MinMaxObserver(min_val=inf, max_val=-inf)\n",
              "          )\n",
              "          (act2): ReLU(inplace=True)\n",
              "          (se): Identity()\n",
              "          (conv_pwl): Conv2d(\n",
              "            72, 24, kernel_size=(1, 1), stride=(1, 1), bias=False\n",
              "            (activation_post_process): MinMaxObserver(min_val=inf, max_val=-inf)\n",
              "          )\n",
              "          (bn3): BatchNorm2d(\n",
              "            24, eps=0.001, momentum=0.1, affine=True, track_running_stats=True\n",
              "            (activation_post_process): MinMaxObserver(min_val=inf, max_val=-inf)\n",
              "          )\n",
              "          (quant): QuantStub(\n",
              "            (activation_post_process): MinMaxObserver(min_val=inf, max_val=-inf)\n",
              "          )\n",
              "          (dequant): DeQuantStub()\n",
              "        )\n",
              "        (1): InvertedResidual(\n",
              "          (conv_pw): Conv2d(\n",
              "            24, 88, kernel_size=(1, 1), stride=(1, 1), bias=False\n",
              "            (activation_post_process): MinMaxObserver(min_val=inf, max_val=-inf)\n",
              "          )\n",
              "          (bn1): BatchNorm2d(\n",
              "            88, eps=0.001, momentum=0.1, affine=True, track_running_stats=True\n",
              "            (activation_post_process): MinMaxObserver(min_val=inf, max_val=-inf)\n",
              "          )\n",
              "          (act1): ReLU(inplace=True)\n",
              "          (conv_dw): Conv2d(\n",
              "            88, 88, kernel_size=(3, 3), stride=(1, 1), padding=(1, 1), groups=88, bias=False\n",
              "            (activation_post_process): MinMaxObserver(min_val=inf, max_val=-inf)\n",
              "          )\n",
              "          (bn2): BatchNorm2d(\n",
              "            88, eps=0.001, momentum=0.1, affine=True, track_running_stats=True\n",
              "            (activation_post_process): MinMaxObserver(min_val=inf, max_val=-inf)\n",
              "          )\n",
              "          (act2): ReLU(inplace=True)\n",
              "          (se): Identity()\n",
              "          (conv_pwl): Conv2d(\n",
              "            88, 24, kernel_size=(1, 1), stride=(1, 1), bias=False\n",
              "            (activation_post_process): MinMaxObserver(min_val=inf, max_val=-inf)\n",
              "          )\n",
              "          (bn3): BatchNorm2d(\n",
              "            24, eps=0.001, momentum=0.1, affine=True, track_running_stats=True\n",
              "            (activation_post_process): MinMaxObserver(min_val=inf, max_val=-inf)\n",
              "          )\n",
              "          (quant): QuantStub(\n",
              "            (activation_post_process): MinMaxObserver(min_val=inf, max_val=-inf)\n",
              "          )\n",
              "          (dequant): DeQuantStub()\n",
              "        )\n",
              "      )\n",
              "      (block2): Sequential(\n",
              "        (0): InvertedResidual(\n",
              "          (conv_pw): Conv2d(\n",
              "            24, 96, kernel_size=(1, 1), stride=(1, 1), bias=False\n",
              "            (activation_post_process): MinMaxObserver(min_val=inf, max_val=-inf)\n",
              "          )\n",
              "          (bn1): BatchNorm2d(\n",
              "            96, eps=0.001, momentum=0.1, affine=True, track_running_stats=True\n",
              "            (activation_post_process): MinMaxObserver(min_val=inf, max_val=-inf)\n",
              "          )\n",
              "          (act1): HardSwishMe()\n",
              "          (conv_dw): Conv2dSame(\n",
              "            96, 96, kernel_size=(5, 5), stride=(1, 1), dilation=(2, 2), groups=96, bias=False\n",
              "            (quant): QuantStub(\n",
              "              (activation_post_process): MinMaxObserver(min_val=inf, max_val=-inf)\n",
              "            )\n",
              "            (dequant): DeQuantStub()\n",
              "          )\n",
              "          (bn2): BatchNorm2d(\n",
              "            96, eps=0.001, momentum=0.1, affine=True, track_running_stats=True\n",
              "            (activation_post_process): MinMaxObserver(min_val=inf, max_val=-inf)\n",
              "          )\n",
              "          (act2): HardSwishMe()\n",
              "          (se): SqueezeExcite(\n",
              "            (conv_reduce): Conv2d(\n",
              "              96, 24, kernel_size=(1, 1), stride=(1, 1)\n",
              "              (activation_post_process): MinMaxObserver(min_val=inf, max_val=-inf)\n",
              "            )\n",
              "            (quant): QuantStub(\n",
              "              (activation_post_process): MinMaxObserver(min_val=inf, max_val=-inf)\n",
              "            )\n",
              "            (dequant): DeQuantStub()\n",
              "            (act1): ReLU(inplace=True)\n",
              "            (conv_expand): Conv2d(\n",
              "              24, 96, kernel_size=(1, 1), stride=(1, 1)\n",
              "              (activation_post_process): MinMaxObserver(min_val=inf, max_val=-inf)\n",
              "            )\n",
              "          )\n",
              "          (conv_pwl): Conv2d(\n",
              "            96, 40, kernel_size=(1, 1), stride=(1, 1), bias=False\n",
              "            (activation_post_process): MinMaxObserver(min_val=inf, max_val=-inf)\n",
              "          )\n",
              "          (bn3): BatchNorm2d(\n",
              "            40, eps=0.001, momentum=0.1, affine=True, track_running_stats=True\n",
              "            (activation_post_process): MinMaxObserver(min_val=inf, max_val=-inf)\n",
              "          )\n",
              "          (quant): QuantStub(\n",
              "            (activation_post_process): MinMaxObserver(min_val=inf, max_val=-inf)\n",
              "          )\n",
              "          (dequant): DeQuantStub()\n",
              "        )\n",
              "        (1): InvertedResidual(\n",
              "          (conv_pw): Conv2d(\n",
              "            40, 240, kernel_size=(1, 1), stride=(1, 1), bias=False\n",
              "            (activation_post_process): MinMaxObserver(min_val=inf, max_val=-inf)\n",
              "          )\n",
              "          (bn1): BatchNorm2d(\n",
              "            240, eps=0.001, momentum=0.1, affine=True, track_running_stats=True\n",
              "            (activation_post_process): MinMaxObserver(min_val=inf, max_val=-inf)\n",
              "          )\n",
              "          (act1): HardSwishMe()\n",
              "          (conv_dw): Conv2d(\n",
              "            240, 240, kernel_size=(5, 5), stride=(1, 1), padding=(4, 4), dilation=(2, 2), groups=240, bias=False\n",
              "            (activation_post_process): MinMaxObserver(min_val=inf, max_val=-inf)\n",
              "          )\n",
              "          (bn2): BatchNorm2d(\n",
              "            240, eps=0.001, momentum=0.1, affine=True, track_running_stats=True\n",
              "            (activation_post_process): MinMaxObserver(min_val=inf, max_val=-inf)\n",
              "          )\n",
              "          (act2): HardSwishMe()\n",
              "          (se): SqueezeExcite(\n",
              "            (conv_reduce): Conv2d(\n",
              "              240, 64, kernel_size=(1, 1), stride=(1, 1)\n",
              "              (activation_post_process): MinMaxObserver(min_val=inf, max_val=-inf)\n",
              "            )\n",
              "            (quant): QuantStub(\n",
              "              (activation_post_process): MinMaxObserver(min_val=inf, max_val=-inf)\n",
              "            )\n",
              "            (dequant): DeQuantStub()\n",
              "            (act1): ReLU(inplace=True)\n",
              "            (conv_expand): Conv2d(\n",
              "              64, 240, kernel_size=(1, 1), stride=(1, 1)\n",
              "              (activation_post_process): MinMaxObserver(min_val=inf, max_val=-inf)\n",
              "            )\n",
              "          )\n",
              "          (conv_pwl): Conv2d(\n",
              "            240, 40, kernel_size=(1, 1), stride=(1, 1), bias=False\n",
              "            (activation_post_process): MinMaxObserver(min_val=inf, max_val=-inf)\n",
              "          )\n",
              "          (bn3): BatchNorm2d(\n",
              "            40, eps=0.001, momentum=0.1, affine=True, track_running_stats=True\n",
              "            (activation_post_process): MinMaxObserver(min_val=inf, max_val=-inf)\n",
              "          )\n",
              "          (quant): QuantStub(\n",
              "            (activation_post_process): MinMaxObserver(min_val=inf, max_val=-inf)\n",
              "          )\n",
              "          (dequant): DeQuantStub()\n",
              "        )\n",
              "        (2): InvertedResidual(\n",
              "          (conv_pw): Conv2d(\n",
              "            40, 240, kernel_size=(1, 1), stride=(1, 1), bias=False\n",
              "            (activation_post_process): MinMaxObserver(min_val=inf, max_val=-inf)\n",
              "          )\n",
              "          (bn1): BatchNorm2d(\n",
              "            240, eps=0.001, momentum=0.1, affine=True, track_running_stats=True\n",
              "            (activation_post_process): MinMaxObserver(min_val=inf, max_val=-inf)\n",
              "          )\n",
              "          (act1): HardSwishMe()\n",
              "          (conv_dw): Conv2d(\n",
              "            240, 240, kernel_size=(5, 5), stride=(1, 1), padding=(4, 4), dilation=(2, 2), groups=240, bias=False\n",
              "            (activation_post_process): MinMaxObserver(min_val=inf, max_val=-inf)\n",
              "          )\n",
              "          (bn2): BatchNorm2d(\n",
              "            240, eps=0.001, momentum=0.1, affine=True, track_running_stats=True\n",
              "            (activation_post_process): MinMaxObserver(min_val=inf, max_val=-inf)\n",
              "          )\n",
              "          (act2): HardSwishMe()\n",
              "          (se): SqueezeExcite(\n",
              "            (conv_reduce): Conv2d(\n",
              "              240, 64, kernel_size=(1, 1), stride=(1, 1)\n",
              "              (activation_post_process): MinMaxObserver(min_val=inf, max_val=-inf)\n",
              "            )\n",
              "            (quant): QuantStub(\n",
              "              (activation_post_process): MinMaxObserver(min_val=inf, max_val=-inf)\n",
              "            )\n",
              "            (dequant): DeQuantStub()\n",
              "            (act1): ReLU(inplace=True)\n",
              "            (conv_expand): Conv2d(\n",
              "              64, 240, kernel_size=(1, 1), stride=(1, 1)\n",
              "              (activation_post_process): MinMaxObserver(min_val=inf, max_val=-inf)\n",
              "            )\n",
              "          )\n",
              "          (conv_pwl): Conv2d(\n",
              "            240, 40, kernel_size=(1, 1), stride=(1, 1), bias=False\n",
              "            (activation_post_process): MinMaxObserver(min_val=inf, max_val=-inf)\n",
              "          )\n",
              "          (bn3): BatchNorm2d(\n",
              "            40, eps=0.001, momentum=0.1, affine=True, track_running_stats=True\n",
              "            (activation_post_process): MinMaxObserver(min_val=inf, max_val=-inf)\n",
              "          )\n",
              "          (quant): QuantStub(\n",
              "            (activation_post_process): MinMaxObserver(min_val=inf, max_val=-inf)\n",
              "          )\n",
              "          (dequant): DeQuantStub()\n",
              "        )\n",
              "      )\n",
              "      (block3): Sequential(\n",
              "        (0): InvertedResidual(\n",
              "          (conv_pw): Conv2d(\n",
              "            40, 120, kernel_size=(1, 1), stride=(1, 1), bias=False\n",
              "            (activation_post_process): MinMaxObserver(min_val=inf, max_val=-inf)\n",
              "          )\n",
              "          (bn1): BatchNorm2d(\n",
              "            120, eps=0.001, momentum=0.1, affine=True, track_running_stats=True\n",
              "            (activation_post_process): MinMaxObserver(min_val=inf, max_val=-inf)\n",
              "          )\n",
              "          (act1): HardSwishMe()\n",
              "          (conv_dw): Conv2d(\n",
              "            120, 120, kernel_size=(5, 5), stride=(1, 1), padding=(4, 4), dilation=(2, 2), groups=120, bias=False\n",
              "            (activation_post_process): MinMaxObserver(min_val=inf, max_val=-inf)\n",
              "          )\n",
              "          (bn2): BatchNorm2d(\n",
              "            120, eps=0.001, momentum=0.1, affine=True, track_running_stats=True\n",
              "            (activation_post_process): MinMaxObserver(min_val=inf, max_val=-inf)\n",
              "          )\n",
              "          (act2): HardSwishMe()\n",
              "          (se): SqueezeExcite(\n",
              "            (conv_reduce): Conv2d(\n",
              "              120, 32, kernel_size=(1, 1), stride=(1, 1)\n",
              "              (activation_post_process): MinMaxObserver(min_val=inf, max_val=-inf)\n",
              "            )\n",
              "            (quant): QuantStub(\n",
              "              (activation_post_process): MinMaxObserver(min_val=inf, max_val=-inf)\n",
              "            )\n",
              "            (dequant): DeQuantStub()\n",
              "            (act1): ReLU(inplace=True)\n",
              "            (conv_expand): Conv2d(\n",
              "              32, 120, kernel_size=(1, 1), stride=(1, 1)\n",
              "              (activation_post_process): MinMaxObserver(min_val=inf, max_val=-inf)\n",
              "            )\n",
              "          )\n",
              "          (conv_pwl): Conv2d(\n",
              "            120, 48, kernel_size=(1, 1), stride=(1, 1), bias=False\n",
              "            (activation_post_process): MinMaxObserver(min_val=inf, max_val=-inf)\n",
              "          )\n",
              "          (bn3): BatchNorm2d(\n",
              "            48, eps=0.001, momentum=0.1, affine=True, track_running_stats=True\n",
              "            (activation_post_process): MinMaxObserver(min_val=inf, max_val=-inf)\n",
              "          )\n",
              "          (quant): QuantStub(\n",
              "            (activation_post_process): MinMaxObserver(min_val=inf, max_val=-inf)\n",
              "          )\n",
              "          (dequant): DeQuantStub()\n",
              "        )\n",
              "        (1): InvertedResidual(\n",
              "          (conv_pw): Conv2d(\n",
              "            48, 144, kernel_size=(1, 1), stride=(1, 1), bias=False\n",
              "            (activation_post_process): MinMaxObserver(min_val=inf, max_val=-inf)\n",
              "          )\n",
              "          (bn1): BatchNorm2d(\n",
              "            144, eps=0.001, momentum=0.1, affine=True, track_running_stats=True\n",
              "            (activation_post_process): MinMaxObserver(min_val=inf, max_val=-inf)\n",
              "          )\n",
              "          (act1): HardSwishMe()\n",
              "          (conv_dw): Conv2d(\n",
              "            144, 144, kernel_size=(5, 5), stride=(1, 1), padding=(4, 4), dilation=(2, 2), groups=144, bias=False\n",
              "            (activation_post_process): MinMaxObserver(min_val=inf, max_val=-inf)\n",
              "          )\n",
              "          (bn2): BatchNorm2d(\n",
              "            144, eps=0.001, momentum=0.1, affine=True, track_running_stats=True\n",
              "            (activation_post_process): MinMaxObserver(min_val=inf, max_val=-inf)\n",
              "          )\n",
              "          (act2): HardSwishMe()\n",
              "          (se): SqueezeExcite(\n",
              "            (conv_reduce): Conv2d(\n",
              "              144, 40, kernel_size=(1, 1), stride=(1, 1)\n",
              "              (activation_post_process): MinMaxObserver(min_val=inf, max_val=-inf)\n",
              "            )\n",
              "            (quant): QuantStub(\n",
              "              (activation_post_process): MinMaxObserver(min_val=inf, max_val=-inf)\n",
              "            )\n",
              "            (dequant): DeQuantStub()\n",
              "            (act1): ReLU(inplace=True)\n",
              "            (conv_expand): Conv2d(\n",
              "              40, 144, kernel_size=(1, 1), stride=(1, 1)\n",
              "              (activation_post_process): MinMaxObserver(min_val=inf, max_val=-inf)\n",
              "            )\n",
              "          )\n",
              "          (conv_pwl): Conv2d(\n",
              "            144, 48, kernel_size=(1, 1), stride=(1, 1), bias=False\n",
              "            (activation_post_process): MinMaxObserver(min_val=inf, max_val=-inf)\n",
              "          )\n",
              "          (bn3): BatchNorm2d(\n",
              "            48, eps=0.001, momentum=0.1, affine=True, track_running_stats=True\n",
              "            (activation_post_process): MinMaxObserver(min_val=inf, max_val=-inf)\n",
              "          )\n",
              "          (quant): QuantStub(\n",
              "            (activation_post_process): MinMaxObserver(min_val=inf, max_val=-inf)\n",
              "          )\n",
              "          (dequant): DeQuantStub()\n",
              "        )\n",
              "      )\n",
              "      (block4): Sequential(\n",
              "        (0): InvertedResidual(\n",
              "          (conv_pw): Conv2d(\n",
              "            48, 288, kernel_size=(1, 1), stride=(1, 1), bias=False\n",
              "            (activation_post_process): MinMaxObserver(min_val=inf, max_val=-inf)\n",
              "          )\n",
              "          (bn1): BatchNorm2d(\n",
              "            288, eps=0.001, momentum=0.1, affine=True, track_running_stats=True\n",
              "            (activation_post_process): MinMaxObserver(min_val=inf, max_val=-inf)\n",
              "          )\n",
              "          (act1): HardSwishMe()\n",
              "          (conv_dw): Conv2dSame(\n",
              "            288, 288, kernel_size=(5, 5), stride=(1, 1), dilation=(4, 4), groups=288, bias=False\n",
              "            (quant): QuantStub(\n",
              "              (activation_post_process): MinMaxObserver(min_val=inf, max_val=-inf)\n",
              "            )\n",
              "            (dequant): DeQuantStub()\n",
              "          )\n",
              "          (bn2): BatchNorm2d(\n",
              "            288, eps=0.001, momentum=0.1, affine=True, track_running_stats=True\n",
              "            (activation_post_process): MinMaxObserver(min_val=inf, max_val=-inf)\n",
              "          )\n",
              "          (act2): HardSwishMe()\n",
              "          (se): SqueezeExcite(\n",
              "            (conv_reduce): Conv2d(\n",
              "              288, 72, kernel_size=(1, 1), stride=(1, 1)\n",
              "              (activation_post_process): MinMaxObserver(min_val=inf, max_val=-inf)\n",
              "            )\n",
              "            (quant): QuantStub(\n",
              "              (activation_post_process): MinMaxObserver(min_val=inf, max_val=-inf)\n",
              "            )\n",
              "            (dequant): DeQuantStub()\n",
              "            (act1): ReLU(inplace=True)\n",
              "            (conv_expand): Conv2d(\n",
              "              72, 288, kernel_size=(1, 1), stride=(1, 1)\n",
              "              (activation_post_process): MinMaxObserver(min_val=inf, max_val=-inf)\n",
              "            )\n",
              "          )\n",
              "          (conv_pwl): Conv2d(\n",
              "            288, 96, kernel_size=(1, 1), stride=(1, 1), bias=False\n",
              "            (activation_post_process): MinMaxObserver(min_val=inf, max_val=-inf)\n",
              "          )\n",
              "          (bn3): BatchNorm2d(\n",
              "            96, eps=0.001, momentum=0.1, affine=True, track_running_stats=True\n",
              "            (activation_post_process): MinMaxObserver(min_val=inf, max_val=-inf)\n",
              "          )\n",
              "          (quant): QuantStub(\n",
              "            (activation_post_process): MinMaxObserver(min_val=inf, max_val=-inf)\n",
              "          )\n",
              "          (dequant): DeQuantStub()\n",
              "        )\n",
              "        (1): InvertedResidual(\n",
              "          (conv_pw): Conv2d(\n",
              "            96, 576, kernel_size=(1, 1), stride=(1, 1), bias=False\n",
              "            (activation_post_process): MinMaxObserver(min_val=inf, max_val=-inf)\n",
              "          )\n",
              "          (bn1): BatchNorm2d(\n",
              "            576, eps=0.001, momentum=0.1, affine=True, track_running_stats=True\n",
              "            (activation_post_process): MinMaxObserver(min_val=inf, max_val=-inf)\n",
              "          )\n",
              "          (act1): HardSwishMe()\n",
              "          (conv_dw): Conv2d(\n",
              "            576, 576, kernel_size=(5, 5), stride=(1, 1), padding=(8, 8), dilation=(4, 4), groups=576, bias=False\n",
              "            (activation_post_process): MinMaxObserver(min_val=inf, max_val=-inf)\n",
              "          )\n",
              "          (bn2): BatchNorm2d(\n",
              "            576, eps=0.001, momentum=0.1, affine=True, track_running_stats=True\n",
              "            (activation_post_process): MinMaxObserver(min_val=inf, max_val=-inf)\n",
              "          )\n",
              "          (act2): HardSwishMe()\n",
              "          (se): SqueezeExcite(\n",
              "            (conv_reduce): Conv2d(\n",
              "              576, 144, kernel_size=(1, 1), stride=(1, 1)\n",
              "              (activation_post_process): MinMaxObserver(min_val=inf, max_val=-inf)\n",
              "            )\n",
              "            (quant): QuantStub(\n",
              "              (activation_post_process): MinMaxObserver(min_val=inf, max_val=-inf)\n",
              "            )\n",
              "            (dequant): DeQuantStub()\n",
              "            (act1): ReLU(inplace=True)\n",
              "            (conv_expand): Conv2d(\n",
              "              144, 576, kernel_size=(1, 1), stride=(1, 1)\n",
              "              (activation_post_process): MinMaxObserver(min_val=inf, max_val=-inf)\n",
              "            )\n",
              "          )\n",
              "          (conv_pwl): Conv2d(\n",
              "            576, 96, kernel_size=(1, 1), stride=(1, 1), bias=False\n",
              "            (activation_post_process): MinMaxObserver(min_val=inf, max_val=-inf)\n",
              "          )\n",
              "          (bn3): BatchNorm2d(\n",
              "            96, eps=0.001, momentum=0.1, affine=True, track_running_stats=True\n",
              "            (activation_post_process): MinMaxObserver(min_val=inf, max_val=-inf)\n",
              "          )\n",
              "          (quant): QuantStub(\n",
              "            (activation_post_process): MinMaxObserver(min_val=inf, max_val=-inf)\n",
              "          )\n",
              "          (dequant): DeQuantStub()\n",
              "        )\n",
              "        (2): InvertedResidual(\n",
              "          (conv_pw): Conv2d(\n",
              "            96, 576, kernel_size=(1, 1), stride=(1, 1), bias=False\n",
              "            (activation_post_process): MinMaxObserver(min_val=inf, max_val=-inf)\n",
              "          )\n",
              "          (bn1): BatchNorm2d(\n",
              "            576, eps=0.001, momentum=0.1, affine=True, track_running_stats=True\n",
              "            (activation_post_process): MinMaxObserver(min_val=inf, max_val=-inf)\n",
              "          )\n",
              "          (act1): HardSwishMe()\n",
              "          (conv_dw): Conv2d(\n",
              "            576, 576, kernel_size=(5, 5), stride=(1, 1), padding=(8, 8), dilation=(4, 4), groups=576, bias=False\n",
              "            (activation_post_process): MinMaxObserver(min_val=inf, max_val=-inf)\n",
              "          )\n",
              "          (bn2): BatchNorm2d(\n",
              "            576, eps=0.001, momentum=0.1, affine=True, track_running_stats=True\n",
              "            (activation_post_process): MinMaxObserver(min_val=inf, max_val=-inf)\n",
              "          )\n",
              "          (act2): HardSwishMe()\n",
              "          (se): SqueezeExcite(\n",
              "            (conv_reduce): Conv2d(\n",
              "              576, 144, kernel_size=(1, 1), stride=(1, 1)\n",
              "              (activation_post_process): MinMaxObserver(min_val=inf, max_val=-inf)\n",
              "            )\n",
              "            (quant): QuantStub(\n",
              "              (activation_post_process): MinMaxObserver(min_val=inf, max_val=-inf)\n",
              "            )\n",
              "            (dequant): DeQuantStub()\n",
              "            (act1): ReLU(inplace=True)\n",
              "            (conv_expand): Conv2d(\n",
              "              144, 576, kernel_size=(1, 1), stride=(1, 1)\n",
              "              (activation_post_process): MinMaxObserver(min_val=inf, max_val=-inf)\n",
              "            )\n",
              "          )\n",
              "          (conv_pwl): Conv2d(\n",
              "            576, 96, kernel_size=(1, 1), stride=(1, 1), bias=False\n",
              "            (activation_post_process): MinMaxObserver(min_val=inf, max_val=-inf)\n",
              "          )\n",
              "          (bn3): BatchNorm2d(\n",
              "            96, eps=0.001, momentum=0.1, affine=True, track_running_stats=True\n",
              "            (activation_post_process): MinMaxObserver(min_val=inf, max_val=-inf)\n",
              "          )\n",
              "          (quant): QuantStub(\n",
              "            (activation_post_process): MinMaxObserver(min_val=inf, max_val=-inf)\n",
              "          )\n",
              "          (dequant): DeQuantStub()\n",
              "        )\n",
              "      )\n",
              "      (block5): Sequential(\n",
              "        (0): ConvBnAct(\n",
              "          (conv): Conv2d(\n",
              "            96, 576, kernel_size=(1, 1), stride=(1, 1), dilation=(4, 4), bias=False\n",
              "            (activation_post_process): MinMaxObserver(min_val=inf, max_val=-inf)\n",
              "          )\n",
              "          (bn1): BatchNorm2d(\n",
              "            576, eps=0.001, momentum=0.1, affine=True, track_running_stats=True\n",
              "            (activation_post_process): MinMaxObserver(min_val=inf, max_val=-inf)\n",
              "          )\n",
              "          (act1): HardSwishMe()\n",
              "        )\n",
              "      )\n",
              "    )\n",
              "    (aspp_conv1): Sequential(\n",
              "      (0): Conv2d(\n",
              "        576, 64, kernel_size=(1, 1), stride=(1, 1), bias=False\n",
              "        (activation_post_process): MinMaxObserver(min_val=inf, max_val=-inf)\n",
              "      )\n",
              "      (1): BatchNorm2d(\n",
              "        64, eps=1e-05, momentum=0.1, affine=True, track_running_stats=True\n",
              "        (activation_post_process): MinMaxObserver(min_val=inf, max_val=-inf)\n",
              "      )\n",
              "      (2): ReLU(inplace=True)\n",
              "    )\n",
              "    (aspp_conv2): Sequential(\n",
              "      (0): Conv2d(\n",
              "        576, 64, kernel_size=(1, 1), stride=(1, 1), bias=False\n",
              "        (activation_post_process): MinMaxObserver(min_val=inf, max_val=-inf)\n",
              "      )\n",
              "      (1): Conv2d(\n",
              "        64, 64, kernel_size=(3, 3), stride=(1, 1), padding=(12, 12), dilation=(12, 12)\n",
              "        (activation_post_process): MinMaxObserver(min_val=inf, max_val=-inf)\n",
              "      )\n",
              "      (2): BatchNorm2d(\n",
              "        64, eps=1e-05, momentum=0.1, affine=True, track_running_stats=True\n",
              "        (activation_post_process): MinMaxObserver(min_val=inf, max_val=-inf)\n",
              "      )\n",
              "      (3): ReLU(inplace=True)\n",
              "    )\n",
              "    (aspp_conv3): Sequential(\n",
              "      (0): Conv2d(\n",
              "        576, 64, kernel_size=(1, 1), stride=(1, 1), bias=False\n",
              "        (activation_post_process): MinMaxObserver(min_val=inf, max_val=-inf)\n",
              "      )\n",
              "      (1): Conv2d(\n",
              "        64, 64, kernel_size=(3, 3), stride=(1, 1), padding=(36, 36), dilation=(36, 36)\n",
              "        (activation_post_process): MinMaxObserver(min_val=inf, max_val=-inf)\n",
              "      )\n",
              "      (2): BatchNorm2d(\n",
              "        64, eps=1e-05, momentum=0.1, affine=True, track_running_stats=True\n",
              "        (activation_post_process): MinMaxObserver(min_val=inf, max_val=-inf)\n",
              "      )\n",
              "      (3): ReLU(inplace=True)\n",
              "    )\n",
              "    (aspp_pool): Sequential(\n",
              "      (0): AdaptiveAvgPool2d(output_size=1)\n",
              "      (1): Conv2d(\n",
              "        576, 64, kernel_size=(1, 1), stride=(1, 1), bias=False\n",
              "        (activation_post_process): MinMaxObserver(min_val=inf, max_val=-inf)\n",
              "      )\n",
              "      (2): BatchNorm2d(\n",
              "        64, eps=1e-05, momentum=0.1, affine=True, track_running_stats=True\n",
              "        (activation_post_process): MinMaxObserver(min_val=inf, max_val=-inf)\n",
              "      )\n",
              "      (3): ReLU(inplace=True)\n",
              "    )\n",
              "    (convs2): Conv2d(\n",
              "      16, 32, kernel_size=(1, 1), stride=(1, 1), bias=False\n",
              "      (activation_post_process): MinMaxObserver(min_val=inf, max_val=-inf)\n",
              "    )\n",
              "    (convs4): Conv2d(\n",
              "      16, 64, kernel_size=(1, 1), stride=(1, 1), bias=False\n",
              "      (activation_post_process): MinMaxObserver(min_val=inf, max_val=-inf)\n",
              "    )\n",
              "    (conv_up1): Conv2d(\n",
              "      256, 64, kernel_size=(1, 1), stride=(1, 1)\n",
              "      (activation_post_process): MinMaxObserver(min_val=inf, max_val=-inf)\n",
              "    )\n",
              "    (conv_up2): ConvBnRelu(\n",
              "      (conv): Conv2d(\n",
              "        128, 64, kernel_size=(1, 1), stride=(1, 1), bias=False\n",
              "        (activation_post_process): MinMaxObserver(min_val=inf, max_val=-inf)\n",
              "      )\n",
              "      (bn): BatchNorm2d(\n",
              "        64, eps=1e-05, momentum=0.1, affine=True, track_running_stats=True\n",
              "        (activation_post_process): MinMaxObserver(min_val=inf, max_val=-inf)\n",
              "      )\n",
              "      (relu): ReLU(inplace=True)\n",
              "    )\n",
              "    (conv_up3): ConvBnRelu(\n",
              "      (conv): Conv2d(\n",
              "        96, 64, kernel_size=(1, 1), stride=(1, 1), bias=False\n",
              "        (activation_post_process): MinMaxObserver(min_val=inf, max_val=-inf)\n",
              "      )\n",
              "      (bn): BatchNorm2d(\n",
              "        64, eps=1e-05, momentum=0.1, affine=True, track_running_stats=True\n",
              "        (activation_post_process): MinMaxObserver(min_val=inf, max_val=-inf)\n",
              "      )\n",
              "      (relu): ReLU(inplace=True)\n",
              "    )\n",
              "    (last): Conv2d(\n",
              "      64, 3, kernel_size=(1, 1), stride=(1, 1)\n",
              "      (activation_post_process): MinMaxObserver(min_val=inf, max_val=-inf)\n",
              "    )\n",
              "  )\n",
              "  (softmax): Softmax(dim=1)\n",
              ")"
            ]
          },
          "metadata": {},
          "execution_count": 25
        }
      ]
    },
    {
      "cell_type": "code",
      "source": [
        "# Define the test data loaders\n",
        "test_dls = SegmentationDataLoaders.from_label_func(\n",
        "    path + '/test/', bs=2, fnames=fnames, label_func=label_func, codes=codes, valid_pct=0\n",
        ")\n",
        "\n",
        "# Define the learner with the quantized model\n",
        "test_learn = Learner(\n",
        "    dls=test_dls,\n",
        "    model=net_quantized,\n",
        "    metrics=[DiceMulti(), foreground_acc]\n",
        ")"
      ],
      "metadata": {
        "id": "4628VGF4sEqi"
      },
      "execution_count": 26,
      "outputs": []
    },
    {
      "cell_type": "code",
      "source": [
        "def test(test_learn):\n",
        "    \"\"\"\n",
        "    Validate the model on test data loaders and extract metrics.\n",
        "\n",
        "    Args:\n",
        "        test_learn: Learner object containing the trained model and metrics.\n",
        "\n",
        "    Returns:\n",
        "        Tuple containing the first test set's DiceMulti and foreground accuracy metrics.\n",
        "    \"\"\"\n",
        "    # Validate the model on each test data loader\n",
        "    test_results = [test_learn.validate(dl=dataloader) for dataloader in test_dls]\n",
        "\n",
        "    # Extract and store the metrics from the test results\n",
        "    test_metrics = [\n",
        "        (result[0], result[1])  # Assuming DiceMulti() metric is at index 0 and foreground_acc at index 1\n",
        "        for result in test_results\n",
        "    ]\n",
        "\n",
        "    # Get the first set of metrics (modify if you need metrics for all datasets)\n",
        "    dice_multi_metric, foreground_acc_metric = test_metrics[0]\n",
        "\n",
        "    # Display the test metrics\n",
        "    print(dice_multi_metric, foreground_acc_metric)\n",
        "\n",
        "    # Return the metrics for further use\n",
        "    return dice_multi_metric, foreground_acc_metric\n"
      ],
      "metadata": {
        "id": "4X_59cqRsXhY"
      },
      "execution_count": 27,
      "outputs": []
    },
    {
      "cell_type": "code",
      "source": [
        "# CALIBRATE\n",
        "test(test_learn)"
      ],
      "metadata": {
        "id": "nWz3ZqUkbvbR",
        "collapsed": true,
        "colab": {
          "base_uri": "https://localhost:8080/",
          "height": 86
        },
        "outputId": "dd46308f-dd42-4f43-f1e2-ba1a248685e9"
      },
      "execution_count": 28,
      "outputs": [
        {
          "output_type": "display_data",
          "data": {
            "text/plain": [
              "<IPython.core.display.HTML object>"
            ],
            "text/html": [
              "\n",
              "<style>\n",
              "    /* Turns off some styling */\n",
              "    progress {\n",
              "        /* gets rid of default border in Firefox and Opera. */\n",
              "        border: none;\n",
              "        /* Needs to be in here for Safari polyfill so background images work as expected. */\n",
              "        background-size: auto;\n",
              "    }\n",
              "    progress:not([value]), progress:not([value])::-webkit-progress-bar {\n",
              "        background: repeating-linear-gradient(45deg, #7e7e7e, #7e7e7e 10px, #5c5c5c 10px, #5c5c5c 20px);\n",
              "    }\n",
              "    .progress-bar-interrupted, .progress-bar-interrupted::-webkit-progress-bar {\n",
              "        background: #F44336;\n",
              "    }\n",
              "</style>\n"
            ]
          },
          "metadata": {}
        },
        {
          "output_type": "display_data",
          "data": {
            "text/plain": [
              "<IPython.core.display.HTML object>"
            ],
            "text/html": []
          },
          "metadata": {}
        },
        {
          "output_type": "display_data",
          "data": {
            "text/plain": [
              "<IPython.core.display.HTML object>"
            ],
            "text/html": [
              "\n",
              "<style>\n",
              "    /* Turns off some styling */\n",
              "    progress {\n",
              "        /* gets rid of default border in Firefox and Opera. */\n",
              "        border: none;\n",
              "        /* Needs to be in here for Safari polyfill so background images work as expected. */\n",
              "        background-size: auto;\n",
              "    }\n",
              "    progress:not([value]), progress:not([value])::-webkit-progress-bar {\n",
              "        background: repeating-linear-gradient(45deg, #7e7e7e, #7e7e7e 10px, #5c5c5c 10px, #5c5c5c 20px);\n",
              "    }\n",
              "    .progress-bar-interrupted, .progress-bar-interrupted::-webkit-progress-bar {\n",
              "        background: #F44336;\n",
              "    }\n",
              "</style>\n"
            ]
          },
          "metadata": {}
        },
        {
          "output_type": "display_data",
          "data": {
            "text/plain": [
              "<IPython.core.display.HTML object>"
            ],
            "text/html": []
          },
          "metadata": {}
        },
        {
          "output_type": "stream",
          "name": "stderr",
          "text": [
            "/usr/local/lib/python3.10/dist-packages/fastprogress/fastprogress.py:73: UserWarning: Your generator is empty.\n",
            "  warn(\"Your generator is empty.\")\n"
          ]
        },
        {
          "output_type": "stream",
          "name": "stdout",
          "text": [
            "0.5692243576049805 0.6263309888805252\n"
          ]
        },
        {
          "output_type": "execute_result",
          "data": {
            "text/plain": [
              "(0.5692243576049805, 0.6263309888805252)"
            ]
          },
          "metadata": {},
          "execution_count": 28
        }
      ]
    },
    {
      "cell_type": "code",
      "source": [
        "net_quantized = test_learn.model\n",
        "net_quantized =net_quantized.to(\"cpu\")"
      ],
      "metadata": {
        "id": "bp52zCPywTQb"
      },
      "execution_count": 29,
      "outputs": []
    },
    {
      "cell_type": "code",
      "source": [
        "net_quantized = torch.ao.quantization.convert(net_quantized)"
      ],
      "metadata": {
        "id": "ezzss6V3bvhm",
        "colab": {
          "base_uri": "https://localhost:8080/"
        },
        "outputId": "5da21100-f159-46e9-f86c-1ad1d3848a83",
        "collapsed": true
      },
      "execution_count": 30,
      "outputs": [
        {
          "output_type": "stream",
          "name": "stderr",
          "text": [
            "/usr/local/lib/python3.10/dist-packages/torch/ao/quantization/utils.py:339: UserWarning: must run observer before calling calculate_qparams. Returning default values.\n",
            "  warnings.warn(\n"
          ]
        }
      ]
    },
    {
      "cell_type": "code",
      "source": [
        "print(f'Check statistics of the various layers')\n",
        "net_quantized"
      ],
      "metadata": {
        "id": "PlbsHxILbveV",
        "collapsed": true,
        "colab": {
          "base_uri": "https://localhost:8080/"
        },
        "outputId": "5d671bc5-166f-42f7-db40-bf7b50b38403"
      },
      "execution_count": 31,
      "outputs": [
        {
          "output_type": "stream",
          "name": "stdout",
          "text": [
            "Check statistics of the various layers\n"
          ]
        },
        {
          "output_type": "execute_result",
          "data": {
            "text/plain": [
              "QuantizedMobileV3SmallWithSoftmax(\n",
              "  (quant): Quantize(scale=tensor([0.0075]), zero_point=tensor([0]), dtype=torch.quint8)\n",
              "  (dequant): DeQuantize()\n",
              "  (model): MobileV3Small(\n",
              "    (trunk): MobileNetV3_Small(\n",
              "      (early): Sequential(\n",
              "        (0): Conv2dSame(\n",
              "          3, 16, kernel_size=(3, 3), stride=(2, 2), bias=False\n",
              "          (quant): Quantize(scale=tensor([0.0767]), zero_point=tensor([64]), dtype=torch.quint8)\n",
              "          (dequant): DeQuantize()\n",
              "        )\n",
              "        (1): QuantizedBatchNorm2d(16, eps=0.001, momentum=0.1, affine=True, track_running_stats=True)\n",
              "        (2): HardSwishMe()\n",
              "      )\n",
              "      (block0): Sequential(\n",
              "        (0): DepthwiseSeparableConv(\n",
              "          (conv_dw): Conv2dSame(\n",
              "            16, 16, kernel_size=(3, 3), stride=(2, 2), groups=16, bias=False\n",
              "            (quant): Quantize(scale=tensor([4.0414]), zero_point=tensor([43]), dtype=torch.quint8)\n",
              "            (dequant): DeQuantize()\n",
              "          )\n",
              "          (bn1): QuantizedBatchNorm2d(16, eps=0.001, momentum=0.1, affine=True, track_running_stats=True)\n",
              "          (act1): ReLU(inplace=True)\n",
              "          (se): SqueezeExcite(\n",
              "            (conv_reduce): QuantizedConv2d(16, 8, kernel_size=(1, 1), stride=(1, 1), scale=0.11478430032730103, zero_point=20)\n",
              "            (quant): Quantize(scale=tensor([0.6943]), zero_point=tensor([0]), dtype=torch.quint8)\n",
              "            (dequant): DeQuantize()\n",
              "            (act1): ReLU(inplace=True)\n",
              "            (conv_expand): QuantizedConv2d(8, 16, kernel_size=(1, 1), stride=(1, 1), scale=0.03067821078002453, zero_point=0)\n",
              "          )\n",
              "          (conv_pw): QuantizedConv2d(16, 16, kernel_size=(1, 1), stride=(1, 1), scale=3.0845563411712646, zero_point=43, bias=False)\n",
              "          (bn2): QuantizedBatchNorm2d(16, eps=0.001, momentum=0.1, affine=True, track_running_stats=True)\n",
              "          (act2): Identity()\n",
              "        )\n",
              "      )\n",
              "      (block1): Sequential(\n",
              "        (0): InvertedResidual(\n",
              "          (conv_pw): QuantizedConv2d(16, 72, kernel_size=(1, 1), stride=(1, 1), scale=6.009283065795898, zero_point=66, bias=False)\n",
              "          (bn1): QuantizedBatchNorm2d(72, eps=0.001, momentum=0.1, affine=True, track_running_stats=True)\n",
              "          (act1): ReLU(inplace=True)\n",
              "          (conv_dw): Conv2dSame(\n",
              "            72, 72, kernel_size=(3, 3), stride=(2, 2), groups=72, bias=False\n",
              "            (quant): Quantize(scale=tensor([22.8708]), zero_point=tensor([54]), dtype=torch.quint8)\n",
              "            (dequant): DeQuantize()\n",
              "          )\n",
              "          (bn2): QuantizedBatchNorm2d(72, eps=0.001, momentum=0.1, affine=True, track_running_stats=True)\n",
              "          (act2): ReLU(inplace=True)\n",
              "          (se): Identity()\n",
              "          (conv_pwl): QuantizedConv2d(72, 24, kernel_size=(1, 1), stride=(1, 1), scale=2.6857106685638428, zero_point=66, bias=False)\n",
              "          (bn3): QuantizedBatchNorm2d(24, eps=0.001, momentum=0.1, affine=True, track_running_stats=True)\n",
              "          (quant): Quantize(scale=tensor([1.]), zero_point=tensor([0]), dtype=torch.quint8)\n",
              "          (dequant): DeQuantize()\n",
              "        )\n",
              "        (1): InvertedResidual(\n",
              "          (conv_pw): QuantizedConv2d(24, 88, kernel_size=(1, 1), stride=(1, 1), scale=5.354039192199707, zero_point=64, bias=False)\n",
              "          (bn1): QuantizedBatchNorm2d(88, eps=0.001, momentum=0.1, affine=True, track_running_stats=True)\n",
              "          (act1): ReLU(inplace=True)\n",
              "          (conv_dw): QuantizedConv2d(88, 88, kernel_size=(3, 3), stride=(1, 1), scale=5.841922760009766, zero_point=79, padding=(1, 1), groups=88, bias=False)\n",
              "          (bn2): QuantizedBatchNorm2d(88, eps=0.001, momentum=0.1, affine=True, track_running_stats=True)\n",
              "          (act2): ReLU(inplace=True)\n",
              "          (se): Identity()\n",
              "          (conv_pwl): QuantizedConv2d(88, 24, kernel_size=(1, 1), stride=(1, 1), scale=1.742167353630066, zero_point=60, bias=False)\n",
              "          (bn3): QuantizedBatchNorm2d(24, eps=0.001, momentum=0.1, affine=True, track_running_stats=True)\n",
              "          (quant): Quantize(scale=tensor([2.0746]), zero_point=tensor([61]), dtype=torch.quint8)\n",
              "          (dequant): DeQuantize()\n",
              "        )\n",
              "      )\n",
              "      (block2): Sequential(\n",
              "        (0): InvertedResidual(\n",
              "          (conv_pw): QuantizedConv2d(24, 96, kernel_size=(1, 1), stride=(1, 1), scale=3.6220924854278564, zero_point=60, bias=False)\n",
              "          (bn1): QuantizedBatchNorm2d(96, eps=0.001, momentum=0.1, affine=True, track_running_stats=True)\n",
              "          (act1): HardSwishMe()\n",
              "          (conv_dw): Conv2dSame(\n",
              "            96, 96, kernel_size=(5, 5), stride=(1, 1), dilation=(2, 2), groups=96, bias=False\n",
              "            (quant): Quantize(scale=tensor([4.9498]), zero_point=tensor([80]), dtype=torch.quint8)\n",
              "            (dequant): DeQuantize()\n",
              "          )\n",
              "          (bn2): QuantizedBatchNorm2d(96, eps=0.001, momentum=0.1, affine=True, track_running_stats=True)\n",
              "          (act2): HardSwishMe()\n",
              "          (se): SqueezeExcite(\n",
              "            (conv_reduce): QuantizedConv2d(96, 24, kernel_size=(1, 1), stride=(1, 1), scale=0.04401994124054909, zero_point=42)\n",
              "            (quant): Quantize(scale=tensor([0.1916]), zero_point=tensor([0]), dtype=torch.quint8)\n",
              "            (dequant): DeQuantize()\n",
              "            (act1): ReLU(inplace=True)\n",
              "            (conv_expand): QuantizedConv2d(24, 96, kernel_size=(1, 1), stride=(1, 1), scale=0.047599464654922485, zero_point=57)\n",
              "          )\n",
              "          (conv_pwl): QuantizedConv2d(96, 40, kernel_size=(1, 1), stride=(1, 1), scale=0.4805110692977905, zero_point=71, bias=False)\n",
              "          (bn3): QuantizedBatchNorm2d(40, eps=0.001, momentum=0.1, affine=True, track_running_stats=True)\n",
              "          (quant): Quantize(scale=tensor([1.]), zero_point=tensor([0]), dtype=torch.quint8)\n",
              "          (dequant): DeQuantize()\n",
              "        )\n",
              "        (1): InvertedResidual(\n",
              "          (conv_pw): QuantizedConv2d(40, 240, kernel_size=(1, 1), stride=(1, 1), scale=1.7693098783493042, zero_point=77, bias=False)\n",
              "          (bn1): QuantizedBatchNorm2d(240, eps=0.001, momentum=0.1, affine=True, track_running_stats=True)\n",
              "          (act1): HardSwishMe()\n",
              "          (conv_dw): QuantizedConv2d(240, 240, kernel_size=(5, 5), stride=(1, 1), scale=2.0210165977478027, zero_point=81, padding=(4, 4), dilation=(2, 2), groups=240, bias=False)\n",
              "          (bn2): QuantizedBatchNorm2d(240, eps=0.001, momentum=0.1, affine=True, track_running_stats=True)\n",
              "          (act2): HardSwishMe()\n",
              "          (se): SqueezeExcite(\n",
              "            (conv_reduce): QuantizedConv2d(240, 64, kernel_size=(1, 1), stride=(1, 1), scale=0.0983649268746376, zero_point=70)\n",
              "            (quant): Quantize(scale=tensor([0.0384]), zero_point=tensor([0]), dtype=torch.quint8)\n",
              "            (dequant): DeQuantize()\n",
              "            (act1): ReLU(inplace=True)\n",
              "            (conv_expand): QuantizedConv2d(64, 240, kernel_size=(1, 1), stride=(1, 1), scale=0.09273194521665573, zero_point=76)\n",
              "          )\n",
              "          (conv_pwl): QuantizedConv2d(240, 40, kernel_size=(1, 1), stride=(1, 1), scale=0.05711750313639641, zero_point=72, bias=False)\n",
              "          (bn3): QuantizedBatchNorm2d(40, eps=0.001, momentum=0.1, affine=True, track_running_stats=True)\n",
              "          (quant): Quantize(scale=tensor([1.0580]), zero_point=tensor([63]), dtype=torch.quint8)\n",
              "          (dequant): DeQuantize()\n",
              "        )\n",
              "        (2): InvertedResidual(\n",
              "          (conv_pw): QuantizedConv2d(40, 240, kernel_size=(1, 1), stride=(1, 1), scale=1.6014430522918701, zero_point=62, bias=False)\n",
              "          (bn1): QuantizedBatchNorm2d(240, eps=0.001, momentum=0.1, affine=True, track_running_stats=True)\n",
              "          (act1): HardSwishMe()\n",
              "          (conv_dw): QuantizedConv2d(240, 240, kernel_size=(5, 5), stride=(1, 1), scale=1.6962602138519287, zero_point=71, padding=(4, 4), dilation=(2, 2), groups=240, bias=False)\n",
              "          (bn2): QuantizedBatchNorm2d(240, eps=0.001, momentum=0.1, affine=True, track_running_stats=True)\n",
              "          (act2): HardSwishMe()\n",
              "          (se): SqueezeExcite(\n",
              "            (conv_reduce): QuantizedConv2d(240, 64, kernel_size=(1, 1), stride=(1, 1), scale=0.04577241837978363, zero_point=78)\n",
              "            (quant): Quantize(scale=tensor([0.0491]), zero_point=tensor([0]), dtype=torch.quint8)\n",
              "            (dequant): DeQuantize()\n",
              "            (act1): ReLU(inplace=True)\n",
              "            (conv_expand): QuantizedConv2d(64, 240, kernel_size=(1, 1), stride=(1, 1), scale=0.05405966565012932, zero_point=71)\n",
              "          )\n",
              "          (conv_pwl): QuantizedConv2d(240, 40, kernel_size=(1, 1), stride=(1, 1), scale=0.046873219311237335, zero_point=57, bias=False)\n",
              "          (bn3): QuantizedBatchNorm2d(40, eps=0.001, momentum=0.1, affine=True, track_running_stats=True)\n",
              "          (quant): Quantize(scale=tensor([1.6382]), zero_point=tensor([56]), dtype=torch.quint8)\n",
              "          (dequant): DeQuantize()\n",
              "        )\n",
              "      )\n",
              "      (block3): Sequential(\n",
              "        (0): InvertedResidual(\n",
              "          (conv_pw): QuantizedConv2d(40, 120, kernel_size=(1, 1), stride=(1, 1), scale=3.473356246948242, zero_point=78, bias=False)\n",
              "          (bn1): QuantizedBatchNorm2d(120, eps=0.001, momentum=0.1, affine=True, track_running_stats=True)\n",
              "          (act1): HardSwishMe()\n",
              "          (conv_dw): QuantizedConv2d(120, 120, kernel_size=(5, 5), stride=(1, 1), scale=3.8737709522247314, zero_point=41, padding=(4, 4), dilation=(2, 2), groups=120, bias=False)\n",
              "          (bn2): QuantizedBatchNorm2d(120, eps=0.001, momentum=0.1, affine=True, track_running_stats=True)\n",
              "          (act2): HardSwishMe()\n",
              "          (se): SqueezeExcite(\n",
              "            (conv_reduce): QuantizedConv2d(120, 32, kernel_size=(1, 1), stride=(1, 1), scale=0.004302693996578455, zero_point=127)\n",
              "            (quant): Quantize(scale=tensor([0.1224]), zero_point=tensor([0]), dtype=torch.quint8)\n",
              "            (dequant): DeQuantize()\n",
              "            (act1): ReLU(inplace=True)\n",
              "            (conv_expand): QuantizedConv2d(32, 120, kernel_size=(1, 1), stride=(1, 1), scale=0.0394112803041935, zero_point=50)\n",
              "          )\n",
              "          (conv_pwl): QuantizedConv2d(120, 48, kernel_size=(1, 1), stride=(1, 1), scale=0.3170683681964874, zero_point=66, bias=False)\n",
              "          (bn3): QuantizedBatchNorm2d(48, eps=0.001, momentum=0.1, affine=True, track_running_stats=True)\n",
              "          (quant): Quantize(scale=tensor([1.]), zero_point=tensor([0]), dtype=torch.quint8)\n",
              "          (dequant): DeQuantize()\n",
              "        )\n",
              "        (1): InvertedResidual(\n",
              "          (conv_pw): QuantizedConv2d(48, 144, kernel_size=(1, 1), stride=(1, 1), scale=1.1166117191314697, zero_point=65, bias=False)\n",
              "          (bn1): QuantizedBatchNorm2d(144, eps=0.001, momentum=0.1, affine=True, track_running_stats=True)\n",
              "          (act1): HardSwishMe()\n",
              "          (conv_dw): QuantizedConv2d(144, 144, kernel_size=(5, 5), stride=(1, 1), scale=3.35967755317688, zero_point=58, padding=(4, 4), dilation=(2, 2), groups=144, bias=False)\n",
              "          (bn2): QuantizedBatchNorm2d(144, eps=0.001, momentum=0.1, affine=True, track_running_stats=True)\n",
              "          (act2): HardSwishMe()\n",
              "          (se): SqueezeExcite(\n",
              "            (conv_reduce): QuantizedConv2d(144, 40, kernel_size=(1, 1), stride=(1, 1), scale=0.05615903064608574, zero_point=39)\n",
              "            (quant): Quantize(scale=tensor([0.0612]), zero_point=tensor([0]), dtype=torch.quint8)\n",
              "            (dequant): DeQuantize()\n",
              "            (act1): ReLU(inplace=True)\n",
              "            (conv_expand): QuantizedConv2d(40, 144, kernel_size=(1, 1), stride=(1, 1), scale=0.07370535284280777, zero_point=77)\n",
              "          )\n",
              "          (conv_pwl): QuantizedConv2d(144, 48, kernel_size=(1, 1), stride=(1, 1), scale=0.04577404633164406, zero_point=60, bias=False)\n",
              "          (bn3): QuantizedBatchNorm2d(48, eps=0.001, momentum=0.1, affine=True, track_running_stats=True)\n",
              "          (quant): Quantize(scale=tensor([0.8084]), zero_point=tensor([69]), dtype=torch.quint8)\n",
              "          (dequant): DeQuantize()\n",
              "        )\n",
              "      )\n",
              "      (block4): Sequential(\n",
              "        (0): InvertedResidual(\n",
              "          (conv_pw): QuantizedConv2d(48, 288, kernel_size=(1, 1), stride=(1, 1), scale=1.9388114213943481, zero_point=64, bias=False)\n",
              "          (bn1): QuantizedBatchNorm2d(288, eps=0.001, momentum=0.1, affine=True, track_running_stats=True)\n",
              "          (act1): HardSwishMe()\n",
              "          (conv_dw): Conv2dSame(\n",
              "            288, 288, kernel_size=(5, 5), stride=(1, 1), dilation=(4, 4), groups=288, bias=False\n",
              "            (quant): Quantize(scale=tensor([2.0975]), zero_point=tensor([73]), dtype=torch.quint8)\n",
              "            (dequant): DeQuantize()\n",
              "          )\n",
              "          (bn2): QuantizedBatchNorm2d(288, eps=0.001, momentum=0.1, affine=True, track_running_stats=True)\n",
              "          (act2): HardSwishMe()\n",
              "          (se): SqueezeExcite(\n",
              "            (conv_reduce): QuantizedConv2d(288, 72, kernel_size=(1, 1), stride=(1, 1), scale=0.13640038669109344, zero_point=55)\n",
              "            (quant): Quantize(scale=tensor([0.0550]), zero_point=tensor([0]), dtype=torch.quint8)\n",
              "            (dequant): DeQuantize()\n",
              "            (act1): ReLU(inplace=True)\n",
              "            (conv_expand): QuantizedConv2d(72, 288, kernel_size=(1, 1), stride=(1, 1), scale=0.10905101895332336, zero_point=62)\n",
              "          )\n",
              "          (conv_pwl): QuantizedConv2d(288, 96, kernel_size=(1, 1), stride=(1, 1), scale=0.07992500066757202, zero_point=64, bias=False)\n",
              "          (bn3): QuantizedBatchNorm2d(96, eps=0.001, momentum=0.1, affine=True, track_running_stats=True)\n",
              "          (quant): Quantize(scale=tensor([1.]), zero_point=tensor([0]), dtype=torch.quint8)\n",
              "          (dequant): DeQuantize()\n",
              "        )\n",
              "        (1): InvertedResidual(\n",
              "          (conv_pw): QuantizedConv2d(96, 576, kernel_size=(1, 1), stride=(1, 1), scale=0.4737289249897003, zero_point=50, bias=False)\n",
              "          (bn1): QuantizedBatchNorm2d(576, eps=0.001, momentum=0.1, affine=True, track_running_stats=True)\n",
              "          (act1): HardSwishMe()\n",
              "          (conv_dw): QuantizedConv2d(576, 576, kernel_size=(5, 5), stride=(1, 1), scale=0.7174432277679443, zero_point=77, padding=(8, 8), dilation=(4, 4), groups=576, bias=False)\n",
              "          (bn2): QuantizedBatchNorm2d(576, eps=0.001, momentum=0.1, affine=True, track_running_stats=True)\n",
              "          (act2): HardSwishMe()\n",
              "          (se): SqueezeExcite(\n",
              "            (conv_reduce): QuantizedConv2d(576, 144, kernel_size=(1, 1), stride=(1, 1), scale=0.06972893327474594, zero_point=75)\n",
              "            (quant): Quantize(scale=tensor([0.0152]), zero_point=tensor([0]), dtype=torch.quint8)\n",
              "            (dequant): DeQuantize()\n",
              "            (act1): ReLU(inplace=True)\n",
              "            (conv_expand): QuantizedConv2d(144, 576, kernel_size=(1, 1), stride=(1, 1), scale=0.05845153331756592, zero_point=87)\n",
              "          )\n",
              "          (conv_pwl): QuantizedConv2d(576, 96, kernel_size=(1, 1), stride=(1, 1), scale=0.013392890803515911, zero_point=61, bias=False)\n",
              "          (bn3): QuantizedBatchNorm2d(96, eps=0.001, momentum=0.1, affine=True, track_running_stats=True)\n",
              "          (quant): Quantize(scale=tensor([0.3229]), zero_point=tensor([61]), dtype=torch.quint8)\n",
              "          (dequant): DeQuantize()\n",
              "        )\n",
              "        (2): InvertedResidual(\n",
              "          (conv_pw): QuantizedConv2d(96, 576, kernel_size=(1, 1), stride=(1, 1), scale=0.5271859169006348, zero_point=58, bias=False)\n",
              "          (bn1): QuantizedBatchNorm2d(576, eps=0.001, momentum=0.1, affine=True, track_running_stats=True)\n",
              "          (act1): HardSwishMe()\n",
              "          (conv_dw): QuantizedConv2d(576, 576, kernel_size=(5, 5), stride=(1, 1), scale=1.1925474405288696, zero_point=94, padding=(8, 8), dilation=(4, 4), groups=576, bias=False)\n",
              "          (bn2): QuantizedBatchNorm2d(576, eps=0.001, momentum=0.1, affine=True, track_running_stats=True)\n",
              "          (act2): HardSwishMe()\n",
              "          (se): SqueezeExcite(\n",
              "            (conv_reduce): QuantizedConv2d(576, 144, kernel_size=(1, 1), stride=(1, 1), scale=0.09156620502471924, zero_point=67)\n",
              "            (quant): Quantize(scale=tensor([0.0766]), zero_point=tensor([0]), dtype=torch.quint8)\n",
              "            (dequant): DeQuantize()\n",
              "            (act1): ReLU(inplace=True)\n",
              "            (conv_expand): QuantizedConv2d(144, 576, kernel_size=(1, 1), stride=(1, 1), scale=0.09409085661172867, zero_point=60)\n",
              "          )\n",
              "          (conv_pwl): QuantizedConv2d(576, 96, kernel_size=(1, 1), stride=(1, 1), scale=0.08019321411848068, zero_point=62, bias=False)\n",
              "          (bn3): QuantizedBatchNorm2d(96, eps=0.001, momentum=0.1, affine=True, track_running_stats=True)\n",
              "          (quant): Quantize(scale=tensor([0.6478]), zero_point=tensor([65]), dtype=torch.quint8)\n",
              "          (dequant): DeQuantize()\n",
              "        )\n",
              "      )\n",
              "      (block5): Sequential(\n",
              "        (0): ConvBnAct(\n",
              "          (conv): QuantizedConv2d(96, 576, kernel_size=(1, 1), stride=(1, 1), scale=0.9211907386779785, zero_point=67, dilation=(4, 4), bias=False)\n",
              "          (bn1): QuantizedBatchNorm2d(576, eps=0.001, momentum=0.1, affine=True, track_running_stats=True)\n",
              "          (act1): HardSwishMe()\n",
              "        )\n",
              "      )\n",
              "    )\n",
              "    (aspp_conv1): Sequential(\n",
              "      (0): QuantizedConv2d(576, 64, kernel_size=(1, 1), stride=(1, 1), scale=0.12632519006729126, zero_point=62, bias=False)\n",
              "      (1): QuantizedBatchNorm2d(64, eps=1e-05, momentum=0.1, affine=True, track_running_stats=True)\n",
              "      (2): ReLU(inplace=True)\n",
              "    )\n",
              "    (aspp_conv2): Sequential(\n",
              "      (0): QuantizedConv2d(576, 64, kernel_size=(1, 1), stride=(1, 1), scale=0.1741020232439041, zero_point=58, bias=False)\n",
              "      (1): QuantizedConv2d(64, 64, kernel_size=(3, 3), stride=(1, 1), scale=0.07675706595182419, zero_point=72, padding=(12, 12), dilation=(12, 12))\n",
              "      (2): QuantizedBatchNorm2d(64, eps=1e-05, momentum=0.1, affine=True, track_running_stats=True)\n",
              "      (3): ReLU(inplace=True)\n",
              "    )\n",
              "    (aspp_conv3): Sequential(\n",
              "      (0): QuantizedConv2d(576, 64, kernel_size=(1, 1), stride=(1, 1), scale=0.1469748616218567, zero_point=64, bias=False)\n",
              "      (1): QuantizedConv2d(64, 64, kernel_size=(3, 3), stride=(1, 1), scale=0.053983256220817566, zero_point=59, padding=(36, 36), dilation=(36, 36))\n",
              "      (2): QuantizedBatchNorm2d(64, eps=1e-05, momentum=0.1, affine=True, track_running_stats=True)\n",
              "      (3): ReLU(inplace=True)\n",
              "    )\n",
              "    (aspp_pool): Sequential(\n",
              "      (0): AdaptiveAvgPool2d(output_size=1)\n",
              "      (1): QuantizedConv2d(576, 64, kernel_size=(1, 1), stride=(1, 1), scale=0.014100096188485622, zero_point=76, bias=False)\n",
              "      (2): QuantizedBatchNorm2d(64, eps=1e-05, momentum=0.1, affine=True, track_running_stats=True)\n",
              "      (3): ReLU(inplace=True)\n",
              "    )\n",
              "    (convs2): QuantizedConv2d(16, 32, kernel_size=(1, 1), stride=(1, 1), scale=0.14664976298809052, zero_point=77, bias=False)\n",
              "    (convs4): QuantizedConv2d(16, 64, kernel_size=(1, 1), stride=(1, 1), scale=1.3780272006988525, zero_point=60, bias=False)\n",
              "    (conv_up1): QuantizedConv2d(256, 64, kernel_size=(1, 1), stride=(1, 1), scale=0.09030824154615402, zero_point=60)\n",
              "    (conv_up2): ConvBnRelu(\n",
              "      (conv): QuantizedConv2d(128, 64, kernel_size=(1, 1), stride=(1, 1), scale=0.5890452265739441, zero_point=74, bias=False)\n",
              "      (bn): QuantizedBatchNorm2d(64, eps=1e-05, momentum=0.1, affine=True, track_running_stats=True)\n",
              "      (relu): ReLU(inplace=True)\n",
              "    )\n",
              "    (conv_up3): ConvBnRelu(\n",
              "      (conv): QuantizedConv2d(96, 64, kernel_size=(1, 1), stride=(1, 1), scale=0.07089045643806458, zero_point=66, bias=False)\n",
              "      (bn): QuantizedBatchNorm2d(64, eps=1e-05, momentum=0.1, affine=True, track_running_stats=True)\n",
              "      (relu): ReLU(inplace=True)\n",
              "    )\n",
              "    (last): QuantizedConv2d(64, 3, kernel_size=(1, 1), stride=(1, 1), scale=0.8875876665115356, zero_point=61)\n",
              "  )\n",
              "  (softmax): Softmax(dim=1)\n",
              ")"
            ]
          },
          "metadata": {},
          "execution_count": 31
        }
      ]
    },
    {
      "cell_type": "code",
      "source": [
        "# print_size_of_model(model)\n",
        "print_size_of_model(net_quantized)"
      ],
      "metadata": {
        "id": "rcdaXyOIcAN0",
        "colab": {
          "base_uri": "https://localhost:8080/"
        },
        "outputId": "98a21313-ee40-4165-f3db-d640e4557800",
        "collapsed": true
      },
      "execution_count": 32,
      "outputs": [
        {
          "output_type": "stream",
          "name": "stdout",
          "text": [
            "Size (KB): 1490.708\n"
          ]
        }
      ]
    },
    {
      "cell_type": "code",
      "source": [
        "# Load an example image\n",
        "test_path = path+\"./test\"\n",
        "print(str((test_path)))\n",
        "img = cv2.imread(str(get_image_files(test_path)[1]))\n",
        "img = cv2.cvtColor(img,cv2.COLOR_BGR2RGB)\n",
        "print(img.shape)\n",
        "print(str(get_image_files(test_path)[5]))\n",
        "plt.imshow(np.array(test_learn.predict(img)[0]))"
      ],
      "metadata": {
        "colab": {
          "base_uri": "https://localhost:8080/",
          "height": 306
        },
        "collapsed": true,
        "id": "RTsdj2tUsmwy",
        "outputId": "5b51b0bf-aeff-4b51-f812-f19c059a6ae2"
      },
      "execution_count": 33,
      "outputs": [
        {
          "output_type": "stream",
          "name": "stdout",
          "text": [
            "/content/drive/MyDrive/lane_Data/./test\n",
            "(89, 256, 3)\n",
            "/content/drive/MyDrive/lane_Data/test/resized_Town04_Clear_Noon_09_09_2020_14_57_22_frame_1172_validation_set.png\n"
          ]
        },
        {
          "output_type": "display_data",
          "data": {
            "text/plain": [
              "<IPython.core.display.HTML object>"
            ],
            "text/html": [
              "\n",
              "<style>\n",
              "    /* Turns off some styling */\n",
              "    progress {\n",
              "        /* gets rid of default border in Firefox and Opera. */\n",
              "        border: none;\n",
              "        /* Needs to be in here for Safari polyfill so background images work as expected. */\n",
              "        background-size: auto;\n",
              "    }\n",
              "    progress:not([value]), progress:not([value])::-webkit-progress-bar {\n",
              "        background: repeating-linear-gradient(45deg, #7e7e7e, #7e7e7e 10px, #5c5c5c 10px, #5c5c5c 20px);\n",
              "    }\n",
              "    .progress-bar-interrupted, .progress-bar-interrupted::-webkit-progress-bar {\n",
              "        background: #F44336;\n",
              "    }\n",
              "</style>\n"
            ]
          },
          "metadata": {}
        },
        {
          "output_type": "display_data",
          "data": {
            "text/plain": [
              "<IPython.core.display.HTML object>"
            ],
            "text/html": []
          },
          "metadata": {}
        },
        {
          "output_type": "execute_result",
          "data": {
            "text/plain": [
              "<matplotlib.image.AxesImage at 0x7d132cf97d90>"
            ]
          },
          "metadata": {},
          "execution_count": 33
        },
        {
          "output_type": "display_data",
          "data": {
            "text/plain": [
              "<Figure size 640x480 with 1 Axes>"
            ],
            "image/png": "[encoded data removed]"
          },
          "metadata": {}
        }
      ]
    },
    {
      "cell_type": "markdown",
      "source": [
        "## Export Quantizied Model"
      ],
      "metadata": {
        "id": "PFiVUESaQNRL"
      }
    },
    {
      "cell_type": "code",
      "source": [
        "torch.save(net_quantized.state_dict(), '/content/drive/MyDrive/final_quantized_model_2.pth')"
      ],
      "metadata": {
        "id": "KoAfWRwjtL7r"
      },
      "execution_count": 34,
      "outputs": []
    },
    {
      "cell_type": "markdown",
      "source": [
        "## load and test Quantizied model\n"
      ],
      "metadata": {
        "id": "WBMl-03BJWYf"
      }
    },
    {
      "cell_type": "code",
      "source": [
        "import torch\n",
        "from torch.ao.quantization import default_qconfig, prepare, convert\n",
        "\n",
        "# 1. Initialize quantized model\n",
        "net_quantized = QuantizedMobileV3SmallWithSoftmax().to(device)\n",
        "net_quantized.qconfig = default_qconfig\n",
        "net_quantized.softmax.qconfig = None  # Disable quantization for softmax\n",
        "\n",
        "# 2. Insert observers\n",
        "net_quantized = prepare(net_quantized)\n",
        "\n",
        "# 3. Apply quantization\n",
        "net_quantized = convert(net_quantized)\n",
        "\n",
        "# 4. Load trained quantized model\n",
        "model_path = '/content/drive/MyDrive/final_quantized_model_2.pth'\n",
        "state_dict = torch.load(model_path, map_location='cpu')\n",
        "net_quantized.load_state_dict(state_dict, strict=False)\n",
        "net_quantized.eval()\n",
        "\n",
        "# Define test data loaders\n",
        "test_dls = SegmentationDataLoaders.from_label_func(\n",
        "    path + '/test/', bs=2, fnames=fnames, label_func=label_func, codes=codes, valid_pct=0\n",
        ")\n",
        "\n",
        "# Create Learner object for testing\n",
        "test_learn = Learner(test_dls, net_quantized, metrics=[DiceMulti(), foreground_acc])\n"
      ],
      "metadata": {
        "id": "6KiBtDYZJToW"
      },
      "execution_count": 36,
      "outputs": []
    },
    {
      "cell_type": "markdown",
      "metadata": {
        "id": "ZnNnT-_C6JZD"
      },
      "source": [
        "# PREDICT"
      ]
    },
    {
      "cell_type": "code",
      "source": [
        "# Load an example image\n",
        "test_path = path+\"./test\"\n",
        "print(str((test_path)))\n",
        "img = cv2.imread(str(get_image_files(test_path)[1]))\n",
        "img = cv2.cvtColor(img,cv2.COLOR_BGR2RGB)\n",
        "print(img.shape)\n",
        "print(str(get_image_files(test_path)[5]))\n",
        "plt.imshow(np.array(test_learn.predict(img)[0]))"
      ],
      "metadata": {
        "colab": {
          "base_uri": "https://localhost:8080/",
          "height": 306
        },
        "id": "kYNI3shZJoW5",
        "outputId": "6cd1ffe4-78bf-44fc-91a6-4b081cd51ae3"
      },
      "execution_count": 37,
      "outputs": [
        {
          "output_type": "stream",
          "name": "stdout",
          "text": [
            "/content/drive/MyDrive/lane_Data/./test\n",
            "(89, 256, 3)\n",
            "/content/drive/MyDrive/lane_Data/test/resized_Town04_Clear_Noon_09_09_2020_14_57_22_frame_1172_validation_set.png\n"
          ]
        },
        {
          "output_type": "display_data",
          "data": {
            "text/plain": [
              "<IPython.core.display.HTML object>"
            ],
            "text/html": [
              "\n",
              "<style>\n",
              "    /* Turns off some styling */\n",
              "    progress {\n",
              "        /* gets rid of default border in Firefox and Opera. */\n",
              "        border: none;\n",
              "        /* Needs to be in here for Safari polyfill so background images work as expected. */\n",
              "        background-size: auto;\n",
              "    }\n",
              "    progress:not([value]), progress:not([value])::-webkit-progress-bar {\n",
              "        background: repeating-linear-gradient(45deg, #7e7e7e, #7e7e7e 10px, #5c5c5c 10px, #5c5c5c 20px);\n",
              "    }\n",
              "    .progress-bar-interrupted, .progress-bar-interrupted::-webkit-progress-bar {\n",
              "        background: #F44336;\n",
              "    }\n",
              "</style>\n"
            ]
          },
          "metadata": {}
        },
        {
          "output_type": "display_data",
          "data": {
            "text/plain": [
              "<IPython.core.display.HTML object>"
            ],
            "text/html": []
          },
          "metadata": {}
        },
        {
          "output_type": "execute_result",
          "data": {
            "text/plain": [
              "<matplotlib.image.AxesImage at 0x7d132d00e620>"
            ]
          },
          "metadata": {},
          "execution_count": 37
        },
        {
          "output_type": "display_data",
          "data": {
            "text/plain": [
              "<Figure size 640x480 with 1 Axes>"
            ],
            "image/png": "[encoded data removed]"
          },
          "metadata": {}
        }
      ]
    },
    {
      "cell_type": "code",
      "source": [
        "# predict using non quantized model\n",
        "# Test with a sample\n",
        "import cv2\n",
        "from PIL import Image\n",
        "import torch\n",
        "import numpy as np\n",
        "import torchvision.transforms as transforms\n",
        "import matplotlib.pyplot as plt\n",
        "\n",
        "img = cv2.imread('/content/drive/MyDrive/lane_Data/val/resized_Town04_Clear_Noon_09_09_2020_14_57_22_frame_0.png')\n",
        "img = cv2.cvtColor(img, cv2.COLOR_BGR2RGB)\n",
        "img_tensor = transforms.ToTensor()(img)\n",
        "img_tensor = img_tensor.unsqueeze(0)\n",
        "image = img_tensor.to('cpu')\n",
        "print(\"Original image shape:\", image.shape)\n",
        "\n",
        "\n",
        "output = net_quantized(image)\n",
        "\n",
        "\n",
        "output_channel_1 = output[0][1].cpu().detach().numpy()\n",
        "output_channel_2 = output[0][2].cpu().detach().numpy()\n",
        "\n",
        "concatenated_output = output_channel_1 + output_channel_2\n",
        "plt.imshow(100*concatenated_output, cmap='gray')\n"
      ],
      "metadata": {
        "id": "kyrWD0_3frEs",
        "colab": {
          "base_uri": "https://localhost:8080/",
          "height": 272
        },
        "outputId": "a1f6989f-15d1-47b0-c996-4bb41ae745b7"
      },
      "execution_count": 38,
      "outputs": [
        {
          "output_type": "stream",
          "name": "stdout",
          "text": [
            "Original image shape: torch.Size([1, 3, 89, 256])\n"
          ]
        },
        {
          "output_type": "execute_result",
          "data": {
            "text/plain": [
              "<matplotlib.image.AxesImage at 0x7d132cc78190>"
            ]
          },
          "metadata": {},
          "execution_count": 38
        },
        {
          "output_type": "display_data",
          "data": {
            "text/plain": [
              "<Figure size 640x480 with 1 Axes>"
            ],
            "image/png": "[encoded data removed]"
          },
          "metadata": {}
        }
      ]
    },
    {
      "cell_type": "markdown",
      "source": [
        "# Export to ONNX"
      ],
      "metadata": {
        "id": "5Z6mDKlqfKU2"
      }
    },
    {
      "cell_type": "code",
      "execution_count": 39,
      "metadata": {
        "id": "k-ewOaslDPxI",
        "colab": {
          "base_uri": "https://localhost:8080/"
        },
        "collapsed": true,
        "outputId": "78e5c981-3990-4813-fab4-85ca493286ed"
      },
      "outputs": [
        {
          "output_type": "stream",
          "name": "stdout",
          "text": [
            "Collecting onnx\n",
            "  Downloading onnx-1.16.1-cp310-cp310-manylinux_2_17_x86_64.manylinux2014_x86_64.whl.metadata (16 kB)\n",
            "Requirement already satisfied: numpy>=1.20 in /usr/local/lib/python3.10/dist-packages (from onnx) (1.26.4)\n",
            "Requirement already satisfied: protobuf>=3.20.2 in /usr/local/lib/python3.10/dist-packages (from onnx) (3.20.3)\n",
            "Downloading onnx-1.16.1-cp310-cp310-manylinux_2_17_x86_64.manylinux2014_x86_64.whl (15.9 MB)\n",
            "\u001b[2K   \u001b[90m━━━━━━━━━━━━━━━━━━━━━━━━━━━━━━━━━━━━━━━━\u001b[0m \u001b[32m15.9/15.9 MB\u001b[0m \u001b[31m82.7 MB/s\u001b[0m eta \u001b[36m0:00:00\u001b[0m\n",
            "\u001b[?25hInstalling collected packages: onnx\n",
            "Successfully installed onnx-1.16.1\n"
          ]
        }
      ],
      "source": [
        "! pip install onnx"
      ]
    },
    {
      "cell_type": "code",
      "source": [
        "import locale\n",
        "locale.getpreferredencoding = lambda: \"UTF-8\"\n",
        "import geffnet\n",
        "import torch\n",
        "from fastseg import MobileV3Small\n",
        "\n",
        "\n",
        "geffnet.config.set_exportable(True)\n",
        "\n",
        "net_quantized.to(\"cpu\")\n",
        "net_quantized.eval()\n",
        "\n",
        "print('==> Exporting to ONNX')\n",
        "height, width = [256,89]\n",
        "print(f'Image dimensions: {height} x {width}')\n",
        "\n",
        "\n",
        "dummy_input = torch.randn(1, 3, height, width).to(\"cpu\")\n",
        "input_names = ['input0']\n",
        "output_names = ['output0']\n",
        "\n",
        "\n",
        "\n",
        "# Run model once, this is required by geffnet\n",
        "net_quantized(dummy_input)\n",
        "\n",
        "torch.onnx.export(net_quantized, dummy_input, \"/content/drive/MyDrive/final_QUanitzed_lane_seg_.onnx\", verbose=True,\n",
        "    input_names=input_names, output_names=output_names,\n",
        "    opset_version=11, keep_initializers_as_inputs=True)\n",
        "\n",
        "\n"
      ],
      "metadata": {
        "id": "ajNr2njoUq8y"
      },
      "execution_count": null,
      "outputs": []
    }
  ],
  "metadata": {
    "colab": {
      "provenance": []
    },
    "kernelspec": {
      "display_name": "Python 3",
      "name": "python3"
    },
    "language_info": {
      "name": "python"
    }
  },
  "nbformat": 4,
  "nbformat_minor": 0
}